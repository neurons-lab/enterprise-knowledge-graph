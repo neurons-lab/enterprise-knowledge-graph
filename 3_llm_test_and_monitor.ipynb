{
 "cells": [
  {
   "cell_type": "markdown",
   "metadata": {},
   "source": [
    "# Introduction\n",
    "\n",
    "![image](./imgs/‎GenAIEnterprises.‎009.png)\n",
    "\n",
    "![image](./imgs/‎GenAIEnterprises.‎010.png)\n",
    "\n",
    "![image](./imgs/‎GenAIEnterprises.‎011.png)\n"
   ]
  },
  {
   "cell_type": "code",
   "execution_count": 3,
   "metadata": {},
   "outputs": [],
   "source": [
    "import boto3\n",
    "import os\n",
    "from IPython.display import display, Markdown\n",
    "from langchain.vectorstores import Chroma\n",
    "from langchain.embeddings.openai import OpenAIEmbeddings\n",
    "\n",
    "def get_api_key(ssm_client, parameter_path):\n",
    "    '''Get the OpenAI API key from the SSM Parameter Store'''\n",
    "    try:\n",
    "        response = ssm_client.get_parameter(\n",
    "            Name=parameter_path,\n",
    "            WithDecryption=True\n",
    "        )\n",
    "        return response['Parameter']['Value']\n",
    "    except ssm_client.exceptions.ParameterNotFound:\n",
    "        raise Exception(f'Parameter {parameter_path} not found in SSM Parameter Store')\n",
    "\n",
    "# Create an SSM client using Boto3\n",
    "region_name = os.getenv('AWS_REGION', 'us-east-1') \n",
    "ssm = boto3.client('ssm', region_name=region_name)\n",
    "\n",
    "openai_api_key = get_api_key(ssm_client=ssm, parameter_path='/openai/api_key')\n",
    "langchain_api_key = get_api_key(ssm_client=ssm, parameter_path='/langchain/api_key')\n",
    "\n",
    "\n",
    "os.environ[\"LANGCHAIN_TRACING_V2\"] = \"true\"\n",
    "# os.environ[\"LANGCHAIN_ENDPOINT\"] = \"https://api.langchain.plus\"\n",
    "os.environ[\"LANGCHAIN_ENDPOINT\"] = \"https://api.smith.langchain.com\"\n",
    "os.environ['OPENAI_API_KEY'] = openai_api_key\n",
    "os.environ[\"LANGCHAIN_API_KEY\"] = langchain_api_key\n",
    "\n",
    "\n",
    "\n",
    "\n",
    "# Set the model variable based on the current date\n",
    "llm_model = \"gpt-3.5-turbo-16k\"\n",
    "\n",
    "# Create the vector store and embedding function\n",
    "embedding = OpenAIEmbeddings()\n",
    "vectordb = Chroma(\n",
    "    persist_directory='docs/chroma/',\n",
    "    embedding_function=embedding\n",
    ")"
   ]
  },
  {
   "cell_type": "code",
   "execution_count": 4,
   "metadata": {},
   "outputs": [
    {
     "name": "stdout",
     "output_type": "stream",
     "text": [
      "View the evaluation results for project 'test-artistic-trousers-61' at:\n",
      "https://smith.langchain.com/o/f09d95d4-78e8-5dcb-a136-09de2b589be4/projects/p/65ecd9d2-2b91-4a59-b303-3191587ed253\n",
      "[------------------------------------------------->] 6/6\n",
      " Eval quantiles:\n",
      "                         0.25  0.50  0.75\n",
      "COT Contextual Accuracy  0.25   1.0   1.0\n"
     ]
    }
   ],
   "source": [
    "import langsmith\n",
    "\n",
    "import nest_asyncio\n",
    "nest_asyncio.apply()\n",
    "\n",
    "from langchain import chat_models, smith\n",
    "\n",
    "# Replace with the chat model you want to test\n",
    "my_llm = chat_models.ChatOpenAI(temperature=0)\n",
    "\n",
    "# Define the evaluators to apply\n",
    "eval_config = smith.RunEvalConfig(\n",
    "    evaluators=[\n",
    "        \"cot_qa\",\n",
    "    ],\n",
    "    custom_evaluators=[],\n",
    "    eval_llm=chat_models.ChatOpenAI(temperature=0)\n",
    ")\n",
    "\n",
    "client = langsmith.Client()\n",
    "chain_results = client.run_on_dataset(\n",
    "    dataset_name=\"ds-stupendous-chair-30\",\n",
    "    llm_or_chain_factory=my_llm,\n",
    "    evaluation=eval_config,\n",
    "    project_name=\"test-artistic-trousers-61\",\n",
    "    verbose=True,\n",
    ")"
   ]
  }
 ],
 "metadata": {
  "kernelspec": {
   "display_name": ".venv",
   "language": "python",
   "name": "python3"
  },
  "language_info": {
   "codemirror_mode": {
    "name": "ipython",
    "version": 3
   },
   "file_extension": ".py",
   "mimetype": "text/x-python",
   "name": "python",
   "nbconvert_exporter": "python",
   "pygments_lexer": "ipython3",
   "version": "3.11.3"
  },
  "orig_nbformat": 4
 },
 "nbformat": 4,
 "nbformat_minor": 2
}
