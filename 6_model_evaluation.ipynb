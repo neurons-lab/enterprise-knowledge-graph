{
 "cells": [
  {
   "cell_type": "markdown",
   "metadata": {},
   "source": [
    "# Generate Dataset from Your Documentation\n",
    "\n",
    "![image](./imgs/‎GenAIEnterprises.‎015.png)\n",
    "\n",
    "![image](./imgs/‎GenAIEnterprises.‎016.png)\n",
    "\n",
    "![image](./imgs/‎GenAIEnterprises.‎017.png)"
   ]
  },
  {
   "cell_type": "markdown",
   "metadata": {},
   "source": [
    "# Initial Setup"
   ]
  },
  {
   "cell_type": "code",
   "execution_count": 9,
   "metadata": {},
   "outputs": [],
   "source": [
    "import boto3\n",
    "import os\n",
    "import openai\n",
    "from llama_index import ServiceContext\n",
    "from llama_index.llms import OpenAI\n",
    "from IPython.display import display, Markdown\n",
    "from langchain.vectorstores import Chroma\n",
    "from langchain.embeddings.openai import OpenAIEmbeddings\n",
    "\n",
    "def get_api_key(ssm_client, parameter_path):\n",
    "    '''Get the OpenAI API key from the SSM Parameter Store'''\n",
    "    try:\n",
    "        response = ssm_client.get_parameter(\n",
    "            Name=parameter_path,\n",
    "            WithDecryption=True\n",
    "        )\n",
    "        return response['Parameter']['Value']\n",
    "    except ssm_client.exceptions.ParameterNotFound:\n",
    "        raise Exception(f'Parameter {parameter_path} not found in SSM Parameter Store')\n",
    "\n",
    "# Create an SSM client using Boto3\n",
    "region_name = os.getenv('AWS_REGION', 'us-east-1') \n",
    "ssm = boto3.client('ssm', region_name=region_name)\n",
    "\n",
    "openai_api_key = get_api_key(ssm_client=ssm, parameter_path='/openai/api_key')\n",
    "langchain_api_key = get_api_key(ssm_client=ssm, parameter_path='/langchain/api_key')\n",
    "\n",
    "\n",
    "os.environ[\"LANGCHAIN_TRACING_V2\"] = \"true\"\n",
    "os.environ[\"LANGCHAIN_ENDPOINT\"] = \"https://api.langchain.plus\"\n",
    "os.environ['OPENAI_API_KEY'] = openai_api_key\n",
    "os.environ[\"LANGCHAIN_API_KEY\"] = langchain_api_key\n",
    "openai.api_key = openai_api_key\n",
    "\n",
    "# Set the model variable based on the current date\n",
    "llm_model = \"gpt-3.5-turbo-16k\"\n",
    "\n",
    "# Create the vector store and embedding function\n",
    "embedding = OpenAIEmbeddings()\n",
    "vectordb = Chroma(\n",
    "    persist_directory='docs/chroma/',\n",
    "    embedding_function=embedding\n",
    ")"
   ]
  },
  {
   "cell_type": "markdown",
   "metadata": {},
   "source": [
    "# Model Evaluation"
   ]
  },
  {
   "cell_type": "code",
   "execution_count": 11,
   "metadata": {},
   "outputs": [],
   "source": [
    "baseline_llm_model = \"gpt-3.5-turbo\"\n",
    "ft_llm_model = \"ft:gpt-3.5-turbo-0613:neurons-lab::7xi7PZeg\""
   ]
  },
  {
   "cell_type": "code",
   "execution_count": 12,
   "metadata": {},
   "outputs": [],
   "source": [
    "import json\n",
    "\n",
    "def load_data(path: str):\n",
    "    fp = open(path, \"r\")\n",
    "    data_dicts = []\n",
    "    for line in fp:\n",
    "        d = json.loads(line)\n",
    "        data_dicts.append(d)\n",
    "    return data_dicts\n",
    "\n",
    "train_dicts = load_data(\"data/qa_pairs_train.jsonl\")\n",
    "eval_dicts = load_data(\"data/qa_pairs_val.jsonl\")"
   ]
  },
  {
   "cell_type": "markdown",
   "metadata": {},
   "source": [
    "## Manual Evaluation"
   ]
  },
  {
   "cell_type": "code",
   "execution_count": 82,
   "metadata": {},
   "outputs": [],
   "source": [
    "from langchain.schema import HumanMessage, SystemMessage\n",
    "from langchain.chat_models import ChatOpenAI\n",
    "from langchain.chains import RetrievalQA\n",
    "\n",
    "retriever = vectordb.as_retriever(search_type=\"mmr\", search_kwargs={'fetch_k': 5, 'k': 7})\n",
    "\n",
    "def query_model(model, query, retriever=None, temperature=0):\n",
    "    \"\"\"Query the model with the given data and return the result.\n",
    "    \n",
    "    Args:\n",
    "        model (str): The model name to use.\n",
    "        query: The query to use.\n",
    "        retriever (Retriever): The retriever to use.\n",
    "        temperature (float): The temperature to use when querying the model.\n",
    "    \n",
    "    Returns:\n",
    "        dict: The query and result.\"\"\"\n",
    "\n",
    "    llm = ChatOpenAI(model_name=model, temperature=temperature)\n",
    "\n",
    "    if not retriever:\n",
    "        messages = [\n",
    "            SystemMessage(\n",
    "                content=\"Provide answers to questions based on the company handbook to help employees quickly find the information they need. Ensure that your responses are concise and directly address the questions asked without providing additional information.\"\n",
    "            ),\n",
    "            HumanMessage(\n",
    "                content=query\n",
    "            ),\n",
    "        ]\n",
    "        result = llm(messages)\n",
    "        return result.content\n",
    "    else:\n",
    "        qa_chain = RetrievalQA.from_chain_type(\n",
    "            llm,\n",
    "            retriever=retriever,\n",
    "            return_source_documents=True,\n",
    "        )\n",
    "        result = qa_chain(query)\n",
    "        return result[\"result\"]\n",
    "        \n",
    "        \n"
   ]
  },
  {
   "cell_type": "code",
   "execution_count": 132,
   "metadata": {},
   "outputs": [
    {
     "data": {
      "text/markdown": [
       "## Query:"
      ],
      "text/plain": [
       "<IPython.core.display.Markdown object>"
      ]
     },
     "metadata": {},
     "output_type": "display_data"
    },
    {
     "data": {
      "text/markdown": [
       "What is the purpose of a buddy in the Made Tech company?"
      ],
      "text/plain": [
       "<IPython.core.display.Markdown object>"
      ]
     },
     "metadata": {},
     "output_type": "display_data"
    },
    {
     "data": {
      "text/markdown": [
       "## Expected Response:"
      ],
      "text/plain": [
       "<IPython.core.display.Markdown object>"
      ]
     },
     "metadata": {},
     "output_type": "display_data"
    },
    {
     "data": {
      "text/markdown": [
       "The purpose of a buddy in the Made Tech company is to help new team members connect and find their way, especially during their first 3 months with the company. Buddies are friendly and helpful individuals who proactively check in with new starters, offer their help and answer questions, explain how things work in the company, and provide guidance and support. They play an important role in helping new team members integrate into Made Tech."
      ],
      "text/plain": [
       "<IPython.core.display.Markdown object>"
      ]
     },
     "metadata": {},
     "output_type": "display_data"
    },
    {
     "data": {
      "text/markdown": [
       "## Baseline LLM:"
      ],
      "text/plain": [
       "<IPython.core.display.Markdown object>"
      ]
     },
     "metadata": {},
     "output_type": "display_data"
    },
    {
     "data": {
      "text/markdown": [
       "### Result: \n",
       " The purpose of a buddy in Made Tech is to provide support and guidance to new employees during their onboarding process."
      ],
      "text/plain": [
       "<IPython.core.display.Markdown object>"
      ]
     },
     "metadata": {},
     "output_type": "display_data"
    },
    {
     "data": {
      "text/markdown": [
       "## FineTuned LLM:"
      ],
      "text/plain": [
       "<IPython.core.display.Markdown object>"
      ]
     },
     "metadata": {},
     "output_type": "display_data"
    },
    {
     "data": {
      "text/markdown": [
       "### Result: \n",
       " The purpose of a buddy in the Made Tech company is to provide support and guidance to new joiners during their first few weeks. Buddies are responsible for helping new joiners settle in, answering any questions they may have, and assisting them in finding the right people to speak to. They also organize regular catch-ups with new joiners to check on their progress and well-being. Overall, buddies play a crucial role in making new joiners feel welcome and helping them navigate their initial experiences at Made Tech."
      ],
      "text/plain": [
       "<IPython.core.display.Markdown object>"
      ]
     },
     "metadata": {},
     "output_type": "display_data"
    },
    {
     "data": {
      "text/markdown": [
       "## FineTuned LLM + RAG:"
      ],
      "text/plain": [
       "<IPython.core.display.Markdown object>"
      ]
     },
     "metadata": {},
     "output_type": "display_data"
    },
    {
     "data": {
      "text/markdown": [
       "### Result: \n",
       " The purpose of a buddy in the Made Tech company is to help new team members connect and find their way, especially in their first 3 months with the company when everything is new to them. Buddies are friendly individuals who provide support and guidance to new team members, both in-person when back in the office (e.g., showing them good lunch places, taking them out for coffee or lunch, helping them navigate the local area) and remotely through video calls or \"coffee chats\". Being a buddy is an important role in helping new team members integrate into Made Tech."
      ],
      "text/plain": [
       "<IPython.core.display.Markdown object>"
      ]
     },
     "metadata": {},
     "output_type": "display_data"
    }
   ],
   "source": [
    "\n",
    "query = train_dicts[48]['query']\n",
    "expected_response = train_dicts[48]['response']\n",
    "\n",
    "display(Markdown(\"## Query:\"))\n",
    "display(Markdown(query))\n",
    "display(Markdown(\"## Expected Response:\"))\n",
    "display(Markdown(expected_response))\n",
    "\n",
    "display(Markdown(\"## Baseline LLM:\"))\n",
    "baseline_result = query_model(baseline_llm_model, query)\n",
    "display(Markdown(f\"### Result: \\n {baseline_result}\"))\n",
    "\n",
    "display(Markdown(\"## FineTuned LLM:\"))\n",
    "ft_result = query_model(ft_llm_model, query)\n",
    "display(Markdown(f\"### Result: \\n {ft_result}\"))\n",
    "\n",
    "display(Markdown(\"## FineTuned LLM + RAG:\"))\n",
    "ft_rag_result = query_model(ft_llm_model, query, retriever=retriever)\n",
    "display(Markdown(f\"### Result: \\n {ft_rag_result}\"))\n",
    "\n"
   ]
  },
  {
   "cell_type": "markdown",
   "metadata": {},
   "source": [
    "## Embedding Distance\n",
    "\n",
    "To measure semantic similarity (or dissimilarity) between a prediction and a reference label string, you could use a vector vector distance metric the two embedded representations using the embedding_distance evaluator.\n",
    "\n",
    "Note: This returns a **distance** score, meaning that the lower the number, the **more** similar the prediction is to the reference, according to their embedded representation."
   ]
  },
  {
   "cell_type": "code",
   "execution_count": 154,
   "metadata": {},
   "outputs": [],
   "source": [
    "from langchain.embeddings import HuggingFaceEmbeddings\n",
    "from langchain.evaluation import load_evaluator\n",
    "\n",
    "embedding_model = HuggingFaceEmbeddings()\n",
    "hf_evaluator = load_evaluator(\"embedding_distance\", embeddings=embedding_model)\n"
   ]
  },
  {
   "cell_type": "code",
   "execution_count": 155,
   "metadata": {},
   "outputs": [
    {
     "data": {
      "text/plain": [
       "{'score': 0.5486443280477362}"
      ]
     },
     "execution_count": 155,
     "metadata": {},
     "output_type": "execute_result"
    }
   ],
   "source": [
    "hf_evaluator.evaluate_strings(prediction=\"I shall go\", reference=\"I shan't go\")"
   ]
  },
  {
   "cell_type": "code",
   "execution_count": 156,
   "metadata": {},
   "outputs": [
    {
     "data": {
      "text/plain": [
       "{'score': 0.21018880025138598}"
      ]
     },
     "execution_count": 156,
     "metadata": {},
     "output_type": "execute_result"
    }
   ],
   "source": [
    "hf_evaluator.evaluate_strings(prediction=\"I shall go\", reference=\"I will go\")"
   ]
  },
  {
   "cell_type": "code",
   "execution_count": 142,
   "metadata": {},
   "outputs": [
    {
     "data": {
      "text/markdown": [
       "## Baseline LLM:"
      ],
      "text/plain": [
       "<IPython.core.display.Markdown object>"
      ]
     },
     "metadata": {},
     "output_type": "display_data"
    },
    {
     "data": {
      "text/plain": [
       "{'score': 0.060356865075396504}"
      ]
     },
     "metadata": {},
     "output_type": "display_data"
    },
    {
     "data": {
      "text/markdown": [
       "## FineTuned LLM:"
      ],
      "text/plain": [
       "<IPython.core.display.Markdown object>"
      ]
     },
     "metadata": {},
     "output_type": "display_data"
    },
    {
     "data": {
      "text/plain": [
       "{'score': 0.025603949751298205}"
      ]
     },
     "metadata": {},
     "output_type": "display_data"
    },
    {
     "data": {
      "text/markdown": [
       "## FineTuned LLM + RAG:"
      ],
      "text/plain": [
       "<IPython.core.display.Markdown object>"
      ]
     },
     "metadata": {},
     "output_type": "display_data"
    },
    {
     "data": {
      "text/plain": [
       "{'score': 0.02472507271870661}"
      ]
     },
     "metadata": {},
     "output_type": "display_data"
    }
   ],
   "source": [
    "display(Markdown(\"## Baseline LLM:\"))\n",
    "display(hf_evaluator.evaluate_strings(prediction=baseline_result, reference=expected_response))\n",
    "\n",
    "display(Markdown(\"## FineTuned LLM:\"))\n",
    "display(hf_evaluator.evaluate_strings(prediction=ft_result, reference=expected_response))\n",
    "\n",
    "display(Markdown(\"## FineTuned LLM + RAG:\"))\n",
    "display(hf_evaluator.evaluate_strings(prediction=ft_rag_result, reference=expected_response))"
   ]
  },
  {
   "cell_type": "code",
   "execution_count": 90,
   "metadata": {},
   "outputs": [],
   "source": [
    "import pandas as pd\n",
    "from tqdm.notebook import tqdm\n",
    "\n",
    "from langchain.chat_models import ChatOpenAI\n",
    "from langchain.prompts import PromptTemplate\n",
    "\n",
    "pd.set_option(\"display.max_colwidth\", None)\n",
    "\n",
    "EVAL_PROMPT_TMPL = PromptTemplate.from_template(\n",
    "    \"\"\"\\\n",
    "We provide a question and the 'ground-truth' answer. We also provide \\\n",
    "the predicted answer.\n",
    "\n",
    "Evaluate whether the predicted answer is correct, given its similarity \\\n",
    "to the ground-truth. If details provided in predicted answer are reflected \\\n",
    "in the ground-truth answer, return \"YES\". To return \"YES\", the details don't \\\n",
    "need to exactly match. Be lenient in evaluation if the predicted answer \\\n",
    "is missing a few details. Try to make sure that there are no blatant mistakes. \\\n",
    "Otherwise, return \"NO\".\n",
    "\n",
    "Question: {question}\n",
    "Ground-truth Answer: {gt_answer}\n",
    "Predicted Answer: {pred_answer}\n",
    "Evaluation Result: \\\n",
    "\"\"\"\n",
    ")\n",
    "\n",
    "\n",
    "def eval_match_gt(query, gt_response, pred_response):\n",
    "    llm = ChatOpenAI(model_name=\"gpt-4\", temperature=0)\n",
    "    fmt_prompt = EVAL_PROMPT_TMPL.format(\n",
    "        question=query,\n",
    "        gt_answer=gt_response,\n",
    "        pred_answer=pred_response,\n",
    "    )\n",
    "\n",
    "    messages = [\n",
    "        HumanMessage(\n",
    "            content=fmt_prompt\n",
    "        ),\n",
    "    ]\n",
    "\n",
    "    result = llm(messages)\n",
    "    if \"yes\" in str(result).lower():\n",
    "        return 1\n",
    "    else:\n",
    "        return 0\n",
    "\n",
    "\n",
    "def run_evals(eval_dicts):\n",
    "    \"\"\"Run evals - fine-tuned model, RAG system, and base model.\"\"\"\n",
    "\n",
    "    raw_responses = []\n",
    "    for eval_dict in tqdm(eval_dicts):\n",
    "        print(eval_dict)\n",
    "        gt_response = eval_dict[\"response\"]\n",
    "        query_model(ft_llm_model, train_dicts[48], retriever=retriever)\n",
    "        ft_rag_response = str(query_model(ft_llm_model, eval_dict[\"query\"], retriever=retriever))\n",
    "        ft_response = str(query_model(ft_llm_model, eval_dict[\"query\"]))\n",
    "        rag_response = str(query_model(baseline_llm_model, eval_dict[\"query\"], retriever=retriever))\n",
    "        base_response = str(query_model(baseline_llm_model, eval_dict[\"query\"]))\n",
    "\n",
    "        # try evaluations\n",
    "        ft_rag_eval = eval_match_gt(eval_dict[\"query\"], gt_response, ft_rag_response)\n",
    "        ft_eval = eval_match_gt(eval_dict[\"query\"], gt_response, ft_response)\n",
    "        rag_eval = eval_match_gt(eval_dict[\"query\"], gt_response, rag_response)\n",
    "        base_eval = eval_match_gt(eval_dict[\"query\"], gt_response, base_response)\n",
    "\n",
    "        response_dict = {\n",
    "            \"query\": eval_dict[\"query\"],\n",
    "            \"gt_response\": gt_response,\n",
    "            \"ft_rag_response\": ft_rag_response,\n",
    "            \"ft_response\": ft_response,\n",
    "            \"rag_response\": rag_response,\n",
    "            \"base_response\": base_response,\n",
    "            \"ft_rag_eval\": ft_rag_eval,\n",
    "            \"ft_eval\": ft_eval,\n",
    "            \"rag_eval\": rag_eval,\n",
    "            \"base_eval\": base_eval,\n",
    "        }\n",
    "\n",
    "        raw_responses.append(response_dict)\n",
    "\n",
    "    raw_responses_df = pd.DataFrame(raw_responses)\n",
    "\n",
    "    eval_dict = {\n",
    "        \"ft_rag_score\": raw_responses_df[\"ft_rag_eval\"].mean(),\n",
    "        \"ft_score\": raw_responses_df[\"ft_eval\"].mean(),\n",
    "        \"rag_score\": raw_responses_df[\"rag_eval\"].mean(),\n",
    "        \"base_score\": raw_responses_df[\"base_eval\"].mean(),\n",
    "    }\n",
    "\n",
    "    sub_responses_df = raw_responses_df[\n",
    "        [\n",
    "            \"query\",\n",
    "            \"gt_response\",\n",
    "            \"ft_rag_response\",\n",
    "            \"ft_response\",\n",
    "            \"rag_response\",\n",
    "            \"base_response\",\n",
    "        ]\n",
    "    ]\n",
    "\n",
    "    return eval_dict, raw_responses_df, sub_responses_df"
   ]
  },
  {
   "cell_type": "code",
   "execution_count": 94,
   "metadata": {},
   "outputs": [
    {
     "data": {
      "application/vnd.jupyter.widget-view+json": {
       "model_id": "a2247c09ed234c46ad668b15b15ae623",
       "version_major": 2,
       "version_minor": 0
      },
      "text/plain": [
       "  0%|          | 0/100 [00:00<?, ?it/s]"
      ]
     },
     "metadata": {},
     "output_type": "display_data"
    },
    {
     "name": "stdout",
     "output_type": "stream",
     "text": [
      "{'query': 'What is the policy at Made Tech regarding false allegations of discrimination?', 'response': 'Making a false allegation deliberately and in bad faith at Made Tech will be treated as misconduct.'}\n",
      "{'query': 'What types of working hours patterns are supported by Made Tech?', 'response': 'Made Tech supports reduced working hours patterns, but does not support compressed hours or other patterns such as annualised hours.'}\n",
      "{'query': 'What is the other path to a salary adjustment at Made Tech apart from the annual review?', 'response': 'The other path to a salary adjustment at Made Tech apart from the annual review is through the Internal mobility process, which includes promotions or lateral moves within the financial year.'}\n",
      "{'query': 'What happens if the 28th of the month falls on a weekend or during a bank holiday at Made Tech?', 'response': 'If the 28th of the month falls on a weekend or during a bank holiday at Made Tech, the payday is moved to the Friday before.'}\n",
      "{'query': 'What happens to the old laptops once they have been returned at Made Tech?', 'response': \"The old laptops at Made Tech are either traded in or recycled, depending on their condition. If a laptop is not eligible for trade-in, such as if it has an iCloud lock, is too damaged, not working, or has no value, it undergoes a full disk wipe and is recycled by Green Machine Computers. On the other hand, if a laptop has trade-in value, it undergoes a full disk wipe, and preparations are made to maximize its trade-in valuation, such as removing stickers and cleaning the device. The laptop is then valued through Stormfront's trade-in service and sent to a trade-in partner for analysis. Any payment received from the trade-in is credited to Made Tech's next invoice.\"}\n",
      "{'query': 'What is the purpose of the equality, diversity and inclusion monitoring questionnaire in the onboarding process at a company?', 'response': 'The purpose of the equality, diversity and inclusion monitoring questionnaire in the onboarding process at a company is to collect data that will be used to help the company make decisions that fulfill their equality, diversity, and inclusion aims.'}\n"
     ]
    },
    {
     "name": "stderr",
     "output_type": "stream",
     "text": [
      "Retrying langchain.chat_models.openai.ChatOpenAI.completion_with_retry.<locals>._completion_with_retry in 4.0 seconds as it raised ServiceUnavailableError: The server is overloaded or not ready yet..\n"
     ]
    },
    {
     "name": "stdout",
     "output_type": "stream",
     "text": [
      "{'query': \"How should chalet members record their time spent on 'New business and revenue' activities?\", 'response': \"Chalet members should record their time spent on 'New business and revenue' activities as 'Bench/Chalet' in their timesheets.\"}\n",
      "{'query': 'What are the expectations for Made Tech team members while working remotely in terms of team ceremonies and Slack communication?', 'response': 'While working remotely, Made Tech team members are expected to ensure that they are available for team ceremonies as normal and are able to dial in without interruption. They are also expected to be a good Slack citizen and check in regularly and visibly with their team throughout the working day in public channels. Additionally, they should ensure that they are not expected for any in-person meetings or sessions while working remotely.'}\n",
      "{'query': 'What consequences may occur if there is a violation of the equality, diversity, and inclusion policy at Made Tech?', 'response': 'Violations of the equality, diversity, and inclusion policy at Made Tech are considered to be serious matters. Depending on the severity of the violation, the company may invoke the disciplinary procedure, which could result in consequences such as warnings, reprimands, or even summary dismissal for cases of deliberate discrimination amounting to gross misconduct. Additionally, unlawful discrimination may lead to legal proceedings against the individual responsible and against Made Tech as a company. Both the individual and the company may be liable to pay compensation. It is important to note that making a false allegation deliberately and in bad faith will also be treated as misconduct.'}\n",
      "{'query': 'What are the benefits for Made Tech employees to link their Microsoft Certification Account to the Made Tech Azure Partner Portal?', 'response': 'The benefits for Made Tech employees to link their Microsoft Certification Account to the Made Tech Azure Partner Portal include access to free Azure Partner Training materials and the ability to maintain and acquire partner levels with Azure.'}\n",
      "{'query': \"What type of approach is Made Tech's pension scheme based on?\", 'response': \"Made Tech's pension scheme is based on a salary sacrifice approach.\"}\n",
      "{'query': \"What is the purpose of the 'chalet' Slack channel at Made Tech?\", 'response': \"The 'chalet' Slack channel at Made Tech serves as a platform for providing up-to-date information on chalet activities and practices. It allows employees to ask questions and arrange collaborative work related to chalet time.\"}\n",
      "{'query': 'What contribution does Made Tech make towards the costs of glasses if they are required for DSE or VDU use?', 'response': 'Made Tech will pay for the lenses of the glasses required for DSE or VDU use, as well as an additional £60 towards the cost of any frames chosen by the individual.'}\n",
      "{'query': 'What are the welfare measures mentioned in the Made Tech Handbook?', 'response': 'The welfare measures mentioned in the Made Tech Handbook include Sick Leave, State of Mind, Employee Assistance, Expectations between Employees and the Organisation, Raising an Issue, Parental Leave, DSE and H&S training, and Ethical Boundaries.'}\n",
      "{'query': 'How often are laptops replaced at Made Tech?', 'response': 'Laptops at Made Tech are replaced every 3 years, based on the age of the individual laptop.'}\n",
      "{'query': 'What is the purpose of the DSE training and DSE assessment at Made Tech?', 'response': 'The purpose of the DSE training and DSE assessment at Made Tech is to assist employees in purchasing items required to fit in with Display Screen Equipment (DSE) requirements.'}\n",
      "{'query': 'Who are the authors of the guide that discusses the EDGE approach?', 'response': 'The authors of the guide that discusses the EDGE approach are Jim Highsmith, Linda Luu, and David Robinson.'}\n",
      "{'query': 'What steps should be taken to start a community group as per the Made Tech open source company handbook?', 'response': \"To start a community group according to the Made Tech open source company handbook, you should take the following steps:\\n\\n1. Create an open or closed Slack channel for your group.\\n2. Notify the diversity and inclusion service team so they can add your group to the lists shared in Slack and during onboarding.\\n3. Document the purpose of your group and details on how and when you meet, either in Slack or a shareable file.\\n4. If it is a closed group, provide details to the diversity and inclusion team on how someone can request an invite and what criteria they need to meet.\\n\\nBy following these steps, you can start an open or closed community group in compliance with the company's Equality, Diversity & Inclusion Policy.\"}\n"
     ]
    },
    {
     "name": "stderr",
     "output_type": "stream",
     "text": [
      "Failed to patch https://api.langchain.plus/runs/307efa4c-0157-4851-9dae-7c7c8486bb85 in LangSmith API. 400 Client Error: Bad Request for url: https://api.langchain.plus/runs/307efa4c-0157-4851-9dae-7c7c8486bb85\n",
      "{\"detail\":\"Cannot update a run that has already finished\"}\n"
     ]
    },
    {
     "name": "stdout",
     "output_type": "stream",
     "text": [
      "{'query': 'What are the monthly meet-ups organized by the People team at Made Tech?', 'response': 'The monthly meet-ups organized by the People team at Made Tech are social activities that take place outside of the work environment and office spaces. These meet-ups are a great way for the team to spend some social time together and meet new people. They are organized around the current office locations of Made Tech, which include London, Manchester, Bristol, and Swansea.'}\n",
      "{'query': 'What is the recommended procedure before applying for the Cycle to Work scheme at Made Tech?', 'response': 'It is recommended to find your perfect bike and accessories before applying for the Cycle to Work scheme at Made Tech. This way, you will know exactly what amount to apply for and avoid applying for too much or too little. It is important to get this right because once you have been approved, you cannot amend your application.'}\n",
      "{'query': 'How can Made Tech employees adjust their pension contribution level?', 'response': 'Made Tech employees can adjust their pension contribution level annually during a set window in spring, which is open to all employees. They can also make adjustments at any point in the case of significant life events that result in a change in their financial circumstances. To make these adjustments, employees need to fill in the \"Pension Scheme\" section of their Hibob profile.'}\n",
      "{'query': 'What is the name of the benefit provided by Made Tech that offers direct access to medical experts through an app?', 'response': 'The benefit provided by Made Tech that offers direct access to medical experts through an app is called \"Unum Help@hand.\"'}\n",
      "{'query': 'What are the steps to create a new page in the Made Tech handbook?', 'response': 'To create a new page in the Made Tech handbook, follow these steps:\\n\\n1. Go to the handbook.\\n2. Click through to the folder where you want to create the new page.\\n3. Click on \"Create new file\".\\n4. Type out the contents of the page using Markdown in the \"Edit new file\" section.\\n5. Preview your changes at any time by clicking \"Preview\".\\n6. Once you are happy with your page, write a short description under \"Commit new file\" to describe the changes you made.\\n7. Select \"Create a new branch for this commit\" and give it a relevant name for your change.\\n8. Submit the change by clicking \"Propose new file\".\\n9. After submitting, you can create a Pull Request to get a review of your new page. Click on \"Create pull request\" and share the link with others for review.'}\n",
      "{'query': 'What happens to the reward if an employee leaves Made Tech after referring a candidate?', 'response': 'The employee will not receive a payment if they leave Made Tech after referring a candidate.'}\n",
      "{'query': 'What is the policy of Made Tech regarding short-term remote working from outside the UK?', 'response': 'Made Tech supports short-term/ad hoc remote working from outside of the UK when it is viable. However, there may be cases where this is not feasible. When considering working abroad, it is important to discuss with your team, inform your line manager, and let the People team know. Additionally, it is necessary to be familiar with the security requirements of the company. There are some limitations to working abroad, such as not being able to take a client laptop outside of the UK and the need to use a VPN to access Made Tech systems. IT support is only available during UK working hours, so if there are any major issues with equipment, the individual is responsible for ensuring they can continue working until they return to the UK. If there are any uncertainties or additional questions, it is recommended to reach out to the Compliance team, Ops, or People.'}\n",
      "{'query': 'What are some of the key questions to consider when evaluating a candidate during a pairing session?', 'response': 'Some key questions to consider when evaluating a candidate during a pairing session include:\\n- Are they prepared?\\n- Are they writing good quality code?\\n- Are they writing good quality tests?\\n- Are they approaching the problem in an effective way?\\n- Can they clearly explain their approach?\\n- Can they clearly explain their thought process?\\n- Are they easy/fun to collaborate with?'}\n",
      "{'query': 'What is the standard laptop specification for all other roles at Made Tech?', 'response': 'The standard laptop specification for all other roles at Made Tech is the MacBook Air with an Apple M1 chip, 8-core CPU, 7-core GPU, 16-core Neural Engine, 8GB unified memory, and 256GB SSD storage.'}\n",
      "{'query': 'What will be emailed to you once you have registered for an APN account?', 'response': 'A security code will be emailed to you once you have registered for an APN account.'}\n",
      "{'query': 'What are some of the key facts that should be communicated to the candidate before starting the session?', 'response': \"The key facts that should be communicated to the candidate before starting the session are:\\n- The session lasts approximately 25 minutes.\\n- The session will involve tackling a small coding challenge together, but it's okay if it's not completed.\\n- The purpose of the session is to understand more about how the candidate works.\\n- The candidate is encouraged to share their thoughts and approach out loud.\\n- It's okay to spend the first five minutes getting comfortable and introducing oneself.\\n- The candidate should be informed about the pairing style and asked if they're familiar with pair programming.\\n- The candidate should be asked if they've done a kata before and which kata they would like to do.\\n- If the candidate is not familiar with test-driven development (TDD), it should be explained briefly that tests will be written as part of the kata.\\n- If the session is remote, the method of pairing should be decided (e.g., Tuple, Live Share, screen sharing).\\n- It's okay to ask questions and make the candidate more comfortable during the session.\"}\n",
      "{'query': \"What is the Made Tech's stance on hybrid working?\", 'response': 'Made Tech supports and encourages hybrid working. They believe in allowing their teams to work in the way that is best for them and their clients, whether it be in person, remotely, from a coffee shop, or outside of the UK. They believe that the best outcomes are achieved by blending different ways and places of work, and they empower their teams to make decisions that are best for their teams, projects, and relationships. They also encourage face-to-face sessions in their offices for purpose-driven activities that help build relationships and stronger teams.'}\n",
      "{'query': 'What should a chalet member do if there are no activities that match their role and availability?', 'response': \"If there are no activities that match a chalet member's role and availability, they should use their chalet time for the next highest priority. For example, if there are no activities related to finding new opportunities on client teams or new business and revenue, the chalet member should engage in hiring activities.\"}\n",
      "{'query': 'What is the time frame within which all claims must be made at Made Tech?', 'response': 'All claims at Made Tech must be made within 90 days.'}\n",
      "{'query': 'What is the maximum consecutive weeks of holiday that Made Tech will support?', 'response': 'Made Tech will support holiday requests that are up to 4 consecutive weeks.'}\n",
      "{'query': 'What is the recommended AWS Partner training path for technical roles according to the Made Tech open source company handbook?', 'response': 'The recommended AWS Partner training path for technical roles according to the Made Tech open source company handbook is the AWS Technical Professional.'}\n",
      "{'query': 'What are the four missions outlined by Made Tech to achieve their vision?', 'response': 'The four missions outlined by Made Tech to achieve their vision are:\\n\\n1. Modernise legacy technology and working practices.\\n2. Accelerate digital service and technology delivery.\\n3. Drive better decisions through data and automation.\\n4. Enable technology and delivery skills to build better systems.'}\n",
      "{'query': 'What is the role of the Head of Capability Practice in relation to chalet time?', 'response': \"The Head of Capability Practice is ultimately accountable for ensuring that everyone in their practice uses chalet time effectively. They are responsible for measuring the average amount of people's time billed to a client, also known as utilization.\"}\n",
      "{'query': 'If an employee starts working at Made Tech on or after the 18th of the month, when would they likely receive their first paycheck?', 'response': 'If an employee starts working at Made Tech on or after the 18th of the month, they would likely receive their first paycheck on the 28th of the following month.'}\n",
      "{'query': 'What is the purpose of the Made Tech Handbook for new team members?', 'response': 'The purpose of the Made Tech Handbook for new team members is to provide them with an overview of the company, including why it exists and its mission to positively impact society through technology. It also outlines the roles within the company, details the benefits and perks offered to employees, and provides information on staff welfare, team norms, and company processes, policies, and resources. Overall, the handbook serves as a starting point for new team members to familiarize themselves with Made Tech and its values.'}\n",
      "{'query': 'What is the protocol if an employee leaves before the end of the payment period in TechScheme?', 'response': 'If an employee leaves before the end of the payment period in TechScheme, they are required to pay back the outstanding amount. This amount will be deducted from their final net pay.'}\n",
      "{'query': 'What are some of the activities that Made Tech engages in, such as code dojos and hack days?', 'response': 'Made Tech engages in activities such as code dojos, hack days, retreats, blogging, and sharing their work on GitHub.'}\n",
      "{'query': 'When does the company hold its monthly update and weekly showcases?', 'response': 'The company holds its monthly update on the first Wednesday of every month at 9:30am, and the weekly showcases are held on Fridays at 4:30pm.'}\n",
      "{'query': 'Who are typically the staff at the desks at a careers fair as per the Made Tech guide?', 'response': 'The staff at the desks at a careers fair, according to the Made Tech guide, are typically recruiters or HR managers rather than people who actually work in engineering.'}\n",
      "{'query': 'What is the purpose of the DevOps pairing process at Made Tech?', 'response': \"The purpose of the DevOps pairing process at Made Tech is to simulate solving a real problem in a delivery. It is designed to assess the candidate's skills and abilities in working with infrastructure as code and using cloud accounts to solve unexpected problems. The pairing process allows the company to evaluate the candidate's suitability for the role and determine if they would be a good fit to work with the team.\"}\n",
      "{'query': 'What equipment does Made Tech provide to its employees to ensure they are work ready?', 'response': 'Made Tech provides its employees with a Macbook (or a PC for Engineers) to ensure they are work ready. Additionally, employees have access to a one-off £250 work ready allowance that can be used to purchase items that will assist them in their job role. Some examples of items that can be ordered include monitors, adapters, keyboards, mice, ergonomic chairs, standing desks, headphones, and laptop stands.'}\n",
      "{'query': 'What are the priorities for using chalet time in Made Tech?', 'response': 'The priorities for using chalet time in Made Tech are as follows:\\n\\n1. New opportunities on client teams, which include:\\n   - Billed opportunities, where clients pay for someone\\'s time\\n   - Invested opportunities, working on a client team to show value\\n   - Shadowing, gaining experience of how teams work\\n\\n2. New business and revenue, which involve:\\n   - Bid writing, including leading, pairing, shadowing, case studies, and research\\n   - Supporting the marketing team in creating content such as blogging, case studies, and talks to promote Made Tech\\n\\n3. Hiring, which includes:\\n   - Pairing on interviews\\n   - Outreach to potential candidates\\n\\n4. Research and development, which encompasses:\\n   - Product development\\n   - Research projects\\n\\n5. Communities of Practice (CoP), where participation involves attending regular meetings and engaging in ongoing activities related to specific areas of practice. Opportunities within CoPs are posted on the Slack channel and the Chalet Community Board.\\n\\n6. Learning time, which includes activities such as reading, training courses, conferences, and pairing/group learning. Learning activities that make an individual unavailable for delivery should be booked as \"Learning Time\" in Bob and recorded as such in timesheets. Other learning activities should be recorded as \"Bench/Chalet\" in timesheets.\\n\\n7. Holiday, which can be booked in the normal way.'}\n",
      "{'query': 'When does the Made Tech company usually pay its employees?', 'response': 'Made Tech company usually pays its employees on the 28th of the month, or the Friday before if the 28th falls on a weekend or during a bank holiday.'}\n",
      "{'query': 'Who can participate in the community meet up and Slack channel according to the Made Tech open source company handbook?', 'response': 'Anyone can participate in the community meet up and Slack channel according to the Made Tech open source company handbook. It is open to all available members of the diversity and inclusion service team as well as anyone else who wants to join or observe. Participants are welcome to join for part of the meet up and can choose to keep their camera off if they prefer.'}\n",
      "{'query': 'What is the suggested duration for a coding challenge session at Made Tech?', 'response': 'The suggested duration for a coding challenge session at Made Tech is approximately 25 minutes.'}\n",
      "{'query': 'What are the domains covered by the AWS Certified Solutions Architect - Professional exam?', 'response': 'The domains covered by the AWS Certified Solutions Architect - Professional exam are Design for Organizational Complexity, Design for New Solutions, Migration Planning, Cost Control, and Continuous Improvement for Existing Solutions.'}\n",
      "{'query': 'What is the primary business of Made Tech as described in the handbook?', 'response': 'Made Tech primarily builds software, ranging from e-commerce stores to complex warehousing APIs and back office tools. They also help other businesses improve their software delivery process, often transitioning them from delivering software every 3 months to delivering it every day.'}\n",
      "{'query': 'What kind of support and budgets are available for open and closed communities according to the Made Tech open source company handbook?', 'response': 'According to the Made Tech open source company handbook, there are several types of support and budgets available for open and closed communities. The culture and happiness team has budgets available for socials and can provide support in organizing events. There is also a diversity and inclusion and culture and happiness budget available for paying speakers to talk at open or closed events. Additionally, there is support in organizing and promoting awareness for key events relevant to various community groups. The offices can be used for meetings, and existing communication platforms such as Slack and Google Meet can be used for virtual meetings. If there are any specific requests not listed, individuals can speak to the diversity and inclusion service team to inquire about further support.'}\n",
      "{'query': \"What is the frequency of 'Career development 121s' at Made Tech and who conducts them?\", 'response': \"The frequency of 'Career development 121s' at Made Tech is monthly. These sessions are conducted by either the Line Manager or one of the company directors.\"}\n",
      "{'query': 'What is the legal obligation of Made Tech during the interview process?', 'response': 'Made Tech has a legal duty to ensure that interviews are fair and free of discrimination. They must avoid asking illegal interview questions and ensure that the conversation does not stray into areas that are considered illegal.'}\n",
      "{'query': \"What is the company's expectation regarding commitments and scheduled meetings?\", 'response': 'The company expects its employees to respect their commitments and the time of other team members. When a meeting is scheduled, everyone is asked to be as accommodating as they can. However, this does not mean that employees cannot be responsible for setting meeting times that fit their working style better.'}\n",
      "{'query': 'What happens to the bike at the end of the Cycle to Work scheme?', 'response': 'At the end of the Cycle to Work scheme, the CycleScheme team will contact the individual to discuss their options. These options include owning the bike later, owning it now, or returning it. The FAQs section on the CycleScheme website provides more information about these options.'}\n",
      "{'query': 'Can you provide an example of indirect discrimination in a workplace setting?', 'response': 'Placing a policy or practice that applies to everyone but adversely affects people with a particular Protected Characteristic can be considered indirect discrimination. For example, if a company insists that all employees work on a Sunday, this could adversely affect Christians who observe Sunday as a religious day of rest.'}\n",
      "{'query': 'How can an employee request access to the `DevopsPairingInterviewer` group?', 'response': 'An employee can request access to the `DevopsPairingInterviewer` group by requesting their user account to be added to the group in the #cop-cloud Slack channel.'}\n",
      "{'query': 'What is the purpose of the Made Tech Book Club?', 'response': 'The purpose of the Made Tech Book Club is to continuously improve the capabilities of engineers in delivery teams and enhance how they deliver working software. The book club provides a platform for engineers to share their relevant knowledge and experiences, discuss and build on the content of technical books, and explore the questions posed by the books. The aim is to make the engineers more well-rounded in their skills and expertise.'}\n",
      "{'query': 'How can an individual expense an AWS exam at Made Tech?', 'response': 'To expense an AWS exam at Made Tech, an individual should follow the expenses guide provided. The account should be set to \"Other Training Costs\" and the name of the exam should be used as the description.'}\n",
      "{'query': 'How many days of leave are available for Made Tech team members between January and December?', 'response': 'Made Tech team members have 30 days of leave available between January and December.'}\n",
      "{'query': 'What is the minimum pension contribution at every SFIA level in Made Tech?', 'response': 'The minimum pension contribution at every SFIA level in Made Tech is 4% (employer matched).'}\n",
      "{'query': \"What is the purpose of Made Tech's participation in the Cycle to Work scheme?\", 'response': 'Made Tech\\'s participation in the Cycle to Work scheme is to support team members who wish to cycle to work for various reasons, such as promoting health, being environmentally friendly, or personal enjoyment. The company provides a limit of £2500 through CycleScheme, which can be used to purchase a bike and necessary accessories. Team members then make monthly \"salary sacrifice\" payments over a 12-month period to effectively \"hire\" the bike and kit. Once the payment period is completed, team members have options regarding owning the bike.'}\n",
      "{'query': 'Where can the products purchased through TechScheme be obtained from?', 'response': 'The products purchased through TechScheme can be obtained from Currys PC World, either in-store at one of their over 450 locations in the UK, or online through their website at www.currys.co.uk or www.pcworld.co.uk.'}\n",
      "{'query': 'What are the flexible working options provided by Made Tech?', 'response': 'Made Tech provides several flexible working options, including flexible working hours, flexible working days, and hybrid working for all staff.'}\n",
      "{'query': \"How should chalet members record their time spent on 'Communities of Practice' activities?\", 'response': \"Chalet members should record their time spent on 'Communities of Practice' activities as 'Bench/Chalet' in their timesheets.\"}\n",
      "{'query': 'What should an employee do with their personal Certification email address when they leave Made Tech?', 'response': 'When an employee leaves Made Tech, they should remove their personal AWS Certification email address from their `@madetech.com` AWS Partner Account. This should be done while they still have access to their `@madetech.com` email address as part of their offboarding process.'}\n",
      "{'query': \"What precautions should be taken while handling sensitive data in public places as per the Made Tech's secure remote working guidelines?\", 'response': \"When handling sensitive data in public places, it is important to take certain precautions according to Made Tech's secure remote working guidelines. These precautions include ensuring that you are handling the data responsibly and securely, especially if you are in a public place like a coffee shop. You should also be mindful of your surroundings and make sure that you cannot be overseen while working with sensitive data. Additionally, it is recommended to have work-related conversations in general terms and avoid mentioning specific details such as names or clients to prevent any potential breaches of confidentiality.\"}\n",
      "{'query': 'How does Made Tech view working hours and the quality of work produced?', 'response': 'Made Tech views working hours as less important than the quality of work produced. They believe that individuals know how they work best and can therefore set their own hours.'}\n"
     ]
    },
    {
     "name": "stderr",
     "output_type": "stream",
     "text": [
      "Retrying langchain.chat_models.openai.ChatOpenAI.completion_with_retry.<locals>._completion_with_retry in 4.0 seconds as it raised ServiceUnavailableError: The server is overloaded or not ready yet..\n"
     ]
    },
    {
     "name": "stdout",
     "output_type": "stream",
     "text": [
      "{'query': \"What activities are encouraged during 'Chalet Time' at Made Tech?\", 'response': \"During 'Chalet Time' at Made Tech, activities that are encouraged include building skills, contributing to Communities of Practice, and growing Made Tech's business. It is a time to focus on other activities that are not directly related to client work.\"}\n",
      "{'query': 'What are the approval processes in place for expense claims at Made Tech?', 'response': 'Claims that align with the policy will be approved, but any claims that are outside of the guidelines will need approval from the Head of Department. Expenses that are aligned to a specific delivery or account should be agreed with the Delivery Manager and/or account team in advance. Expenses for events and conferences need to be approved in advance by the relevant Head of Department.'}\n",
      "{'query': 'What is the preferred format for internal office documents at Made Tech?', 'response': 'The preferred format for internal office documents at Made Tech is Google office applications (Docs, Sheets), to be stored in Google Drive.'}\n",
      "{'query': 'How are the minutes of the service team meetings at Made Tech made available?', 'response': 'The minutes of the service team meetings at Made Tech are made publicly available.'}\n",
      "{'query': 'What is the standard laptop specification for Engineers and UCD roles at Made Tech?', 'response': 'The standard laptop specification for Engineers and UCD roles at Made Tech is a 14-inch MacBook Pro with an Apple M1 Pro processor, 16GB of memory, and 512GB of SSD storage. Alternatively, they can also choose a Lenovo ThinkPad X1 Carbon 14 Inch with a Core i7-10510U processor, 16GB of RAM, and 512GB of SSD storage.'}\n",
      "{'query': 'What is the role of SSO administrators in the context of the Made Tech open source company handbook?', 'response': 'SSO administrators in the context of the Made Tech open source company handbook are responsible for adding new users to the AWS sandbox. They log in to the SSO (Single Sign-On) platform, navigate to the AWS Management Console, and add new users by filling in their details. The SSO administrators also assign the new users to the \"SandboxUsers\" group, after which the new users receive an email invitation to join the AWS sandbox.'}\n",
      "{'query': 'How can you gain access to the AWS Sandbox account?', 'response': 'To gain access to the AWS Sandbox account, you need to follow these steps:\\n\\n1. Request a new user account in the #cop-cloud Slack channel in the `SandboxUsers` group.\\n2. AWS SSO login credentials will be emailed to you.\\n3. Follow the instructions in the email and set up MFA (Multi-Factor Authentication).\\n4. Login to the AWS Sandbox account via the URL provided: https://madetech.awsapps.com/start/'}\n",
      "{'query': 'What email address should you use when creating an APN account?', 'response': 'You should use your **@madetech.com** email address when creating an APN account.'}\n",
      "{'query': 'When is a Made Tech employee needed during the interview process?', 'response': 'A Made Tech employee is needed during the pairing session, which starts 30 minutes after the start of the interview and lasts for 30 minutes. They are also needed during the debrief, which usually happens directly after the 1 hour and 30-minute interview and lasts for about 10 minutes.'}\n",
      "{'query': 'How much notice should be given for a holiday period of greater than two weeks according to the Made Tech handbook?', 'response': 'According to the Made Tech handbook, for a holiday period of greater than two weeks, at least 3 months notice should be given.'}\n",
      "{'query': 'How is the salary and bonus payments calculated for part-time employees at Made Tech?', 'response': 'The salary and bonus payments for part-time employees at Made Tech are calculated as a percentage of a 5-day week. For example, if an employee works 4 out of 5 days, their salary and any bonus would be reduced by 20%.'}\n",
      "{'query': 'What is the commitment of the company in terms of equal opportunities in employment?', 'response': 'The company commits to avoiding unlawful discrimination in all aspects of employment, including recruitment, promotion, opportunities for training, pay and benefits, discipline, and selection for redundancy.'}\n",
      "{'query': 'What is the role of the diversity and inclusion service team at Made Tech?', 'response': 'The diversity and inclusion service team at Made Tech is responsible for shaping and delivering changes to drive improvements in diversity and inclusion within the company. They define the diversity and inclusion strategy, set objectives and KPIs, and co-create change plans with other service teams. They also support the wider organization in taking action to achieve these objectives, report on progress to the leadership team, and serve as an escalation point for raising issues at an executive and board-level. Additionally, the team manages the operation of equality data collection, reports on equality data to inform future decisions and investments, and runs the diversity and inclusion community.'}\n",
      "{'query': 'How does Made Tech describe the setup of a typical careers fair?', 'response': \"A typical careers fair setup at Made Tech is described as having many stalls set up in a big hall. The stalls are arranged in a circuit, and students pass by them asking questions about job opportunities and internships. Most stalls have two representatives standing to the side or in front of them, as standing behind the desk creates a barrier between students and representatives. The stalls are typically covered with table clothes in the company's colors and have big banners behind them with bullet point information about the company and job opportunities. Some stalls also have sweets or chocolate, along with leaflets and swag such as totes, USB sticks, popcorn, pens, paper pads, and Rubik's cubes. Some stalls may have challenges like solving a Rubik's cube with a leaderboard or examples of apps on laptops. The staff at the desks are usually recruiters or HR managers, rather than people who work in engineering. There are also big brands present, and students swarm around them for more information. Most students want to ask about what the company does, and some are interested in internships or graduate positions. On average, students stay at each stall for 1 to 5 minutes, and conversations are initiated with everyone who approaches.\"}\n",
      "{'query': 'What is the suggested AWS Certification for every Made Tech employee according to the handbook?', 'response': 'The suggested AWS Certification for every Made Tech employee according to the handbook is the AWS Cloud Practitioner Certification.'}\n",
      "{'query': 'What is the vision of Made Tech for the future of the country?', 'response': \"Made Tech's vision for the future of the country is to positively impact society by using technology to improve the lives of everyone. They aim to work with public servants to modernize technology and accelerate digital delivery in order to achieve this vision.\"}\n",
      "{'query': 'What is the procedure to apply for TechScheme at Made Tech?', 'response': 'To apply for TechScheme at Made Tech, you need to head to the TechScheme website, which can be accessed through the Help to buy tech square on Bob Benefits. On the website, you will need to enter the Employer code, which can also be found in the Tech square on Bob Benefits. Complete the application by providing your payroll number, which is labeled as Employee ID on your bob profile or can be found on your payslip. Once you have completed the application, it will be sent to a member of the people team at Made Tech for approval. Once approved, you will receive your eCertificate, which can be exchanged for your desired tech gadget in-store or online.'}\n"
     ]
    },
    {
     "name": "stderr",
     "output_type": "stream",
     "text": [
      "Retrying langchain.chat_models.openai.ChatOpenAI.completion_with_retry.<locals>._completion_with_retry in 4.0 seconds as it raised ServiceUnavailableError: The server is overloaded or not ready yet..\n"
     ]
    },
    {
     "name": "stdout",
     "output_type": "stream",
     "text": [
      "{'query': 'How can chalet members contribute to new revenue and business as per the Made Tech handbook?', 'response': 'Chalet members can contribute to new revenue and business by participating in various activities outlined in the Made Tech handbook. The Bids team will provide details of bids that chalet members can contribute to, allowing them to contribute to the revenue generation process. Additionally, the Marketing team will share tasks that chalet members can do to promote Made Tech, such as creating blog posts or contacting relevant teams for input. These tasks will be posted in the Chalet Community Board, and chalet members can engage in them to contribute to the growth of the business.'}\n",
      "{'query': 'What platforms should every member of Made Tech have access to, with two-factor authentication?', 'response': 'Every member of Made Tech should have access to Google Mail, Github, Slack, 1Password, Trello (unless using Google Auth to login to Trello), and HiBob, all with two-factor authentication.'}\n",
      "{'query': 'Can the Cycle to Work scheme at Made Tech be used to get a bike for a family member, partner, or friend?', 'response': 'No, the Cycle to Work scheme at Made Tech cannot be used to get a bike for a family member, partner, or friend. The items selected through the scheme must be for oneself.'}\n",
      "{'query': 'What are the domains covered in the AWS Certified SysOps Administrator - Associate certification?', 'response': 'The domains covered in the AWS Certified SysOps Administrator - Associate certification are Monitoring & Reporting, High Availability, Deployment & Provisioning, Storage & Data Management, Security & Compliance, Networking, and Automation & Optimization.'}\n",
      "{'query': 'What are the different AWS Speciality Certifications listed in the Made Tech open source company handbook?', 'response': 'The Made Tech open source company handbook lists the following AWS Speciality Certifications:\\n\\n1. AWS Certified Advanced Networking - Specialty\\n2. AWS Certified Data Analytics - Specialty\\n3. AWS Certified Database - Specialty\\n4. AWS Certified Machine Learning – Specialty\\n5. AWS Certified Security - Specialty'}\n",
      "{'query': 'What is the purpose of the diversity and inclusion community meetup at Made Tech?', 'response': 'The purpose of the diversity and inclusion community meetup at Made Tech is to provide an opportunity for anyone at the company to join the conversation on how to progress and promote diversity and inclusion across the business. The community meetup aims to be open to anyone, meet on a regular basis, discuss ideas and issues, contribute to and review the strategy and plans of the diversity and inclusion service team, hold the team accountable for delivering on their plan, review content changes before they are opened for wider review in the Handbook, and escalate issues.'}\n",
      "{'query': \"What is the company's policy regarding setting work hours?\", 'response': 'The company does not have a set amount of hours that employees need to work in a day or a week. Employees have the flexibility to vary their hours day to day or stick to a routine. However, there are certain company meetings that employees are expected to attend at specific times.'}\n",
      "{'query': 'How does the Cycle to Work scheme differ from Interest Free Finance offered by some retailers?', 'response': 'The Cycle to Work scheme differs from Interest Free Finance offered by some retailers in a few ways. Firstly, through the Cycle to Work scheme, individuals can save between 25% and 39% through tax and national insurance. This means that the cost of the bike or equipment will be deducted from their payslip, resulting in savings. Additionally, the Cycle to Work scheme offers free extras, discounts, and benefits on their website that individuals would not receive with Interest Free Finance. Lastly, the Cycle to Work scheme allows individuals to spread the cost of their purchase over 12 months, making it more affordable compared to Interest Free Finance options.'}\n",
      "{'query': 'What is the recommended notice period for a request to change working patterns at Made Tech?', 'response': 'It is recommended to provide as much notice as possible, ideally 2 months or more, for a request to change working patterns at Made Tech.'}\n",
      "{'query': 'What are the recommended online training platforms for AWS Certified Solutions Architect - Professional according to the handbook?', 'response': 'The recommended online training platforms for AWS Certified Solutions Architect - Professional, according to the handbook, are Cantrill.io and ACloudGuru.'}\n",
      "{'query': \"How should chalet members record their time spent on 'Learning time' activities?\", 'response': \"Chalet members should record their time spent on 'Learning time' activities as 'Bench/Chalet' in their timesheets.\"}\n",
      "{'query': 'What are the expectations from non-engineers during the on-boarding process at Made Tech?', 'response': 'Non-engineers at Made Tech are expected to complete the Github tutorial during the on-boarding process.'}\n"
     ]
    },
    {
     "name": "stderr",
     "output_type": "stream",
     "text": [
      "Retrying langchain.chat_models.openai.ChatOpenAI.completion_with_retry.<locals>._completion_with_retry in 4.0 seconds as it raised ServiceUnavailableError: The server is overloaded or not ready yet..\n"
     ]
    },
    {
     "name": "stdout",
     "output_type": "stream",
     "text": [
      "{'query': 'What is the process to submit expense claims at Made Tech?', 'response': \"Expense claims at Made Tech need to be submitted via Xero. If an employee does not have a login for Xero, they can drop a message in #ops-finance or email finance@madetech.com to request one. All expense claims must be made within 90 days and will typically be paid within 2 weeks. There are different approval processes in place depending on the type of expense. Normal expenses that align with the policy will be approved, but any claims that are outside of the guidelines will require approval from the employee's Head of Department. Expenses that are aligned to a specific delivery or account should be agreed upon with the Delivery Manager and/or account team in advance. Expenses for events and conferences need to be approved in advance by the relevant Head of Department. For any other information, employees should refer to the policy document and direct any questions to #ops-finance or finance@madetech.com.\"}\n",
      "{'query': 'How can employees at Made Tech expense Railcards for business travel?', 'response': \"To expense Railcards for business travel at Made Tech, employees need to follow these steps:\\n\\n1. Purchase a railcard.\\n2. Add the railcard to your TravelPerk account.\\n3. Take a screenshot to show that the railcard has been added.\\n4. Share the image and receipt on Xero when submitting the expense claim.\\n\\nIt's important to note that Made Tech will reimburse the price of any yearly railcard purchased from April 26th, 2023 onwards. If an employee leaves Made Tech, they will not be charged for the railcard and do not need to return it. However, railcards cannot be expensed during the notice period.\"}\n",
      "{'query': 'How does Made Tech view the importance of face-to-face sessions in the context of hybrid working?', 'response': 'Made Tech views face-to-face sessions as an important aspect of hybrid working. They believe that organic purposeful face-to-face sessions help build relationships and stronger teams, which ultimately leads to better work for both their teams and clients. They encourage their team members to have 2-3 days a month in a Made Tech office for purpose-driven activities that contribute to valuable outputs and relationship building. This indicates that Made Tech recognizes the value of in-person interactions and aims to create opportunities for their teams to come together and collaborate.'}\n"
     ]
    }
   ],
   "source": [
    "eval_dict, raw_response_df, sub_responses_df = run_evals(eval_dicts)"
   ]
  },
  {
   "cell_type": "code",
   "execution_count": 95,
   "metadata": {},
   "outputs": [
    {
     "data": {
      "text/plain": [
       "{'ft_rag_score': 0.84, 'ft_score': 0.59, 'rag_score': 0.75, 'base_score': 0.46}"
      ]
     },
     "metadata": {},
     "output_type": "display_data"
    },
    {
     "data": {
      "text/html": [
       "<div>\n",
       "<style scoped>\n",
       "    .dataframe tbody tr th:only-of-type {\n",
       "        vertical-align: middle;\n",
       "    }\n",
       "\n",
       "    .dataframe tbody tr th {\n",
       "        vertical-align: top;\n",
       "    }\n",
       "\n",
       "    .dataframe thead th {\n",
       "        text-align: right;\n",
       "    }\n",
       "</style>\n",
       "<table border=\"1\" class=\"dataframe\">\n",
       "  <thead>\n",
       "    <tr style=\"text-align: right;\">\n",
       "      <th></th>\n",
       "      <th>query</th>\n",
       "      <th>gt_response</th>\n",
       "      <th>ft_rag_response</th>\n",
       "      <th>ft_response</th>\n",
       "      <th>rag_response</th>\n",
       "      <th>base_response</th>\n",
       "    </tr>\n",
       "  </thead>\n",
       "  <tbody>\n",
       "    <tr>\n",
       "      <th>0</th>\n",
       "      <td>What is the policy at Made Tech regarding false allegations of discrimination?</td>\n",
       "      <td>Making a false allegation deliberately and in bad faith at Made Tech will be treated as misconduct.</td>\n",
       "      <td>Making a false allegation deliberately and in bad faith will be treated as misconduct according to Made Tech's equality, diversity, and inclusion policy.</td>\n",
       "      <td>Made Tech takes false allegations of discrimination seriously and they may result in disciplinary action.</td>\n",
       "      <td>Making a false allegation deliberately and in bad faith will be treated as misconduct according to Made Tech's policy.</td>\n",
       "      <td>Made Tech takes false allegations of discrimination very seriously. Any employee found to have made a false allegation of discrimination may be subject to disciplinary action, up to and including termination of employment.</td>\n",
       "    </tr>\n",
       "    <tr>\n",
       "      <th>1</th>\n",
       "      <td>What types of working hours patterns are supported by Made Tech?</td>\n",
       "      <td>Made Tech supports reduced working hours patterns, but does not support compressed hours or other patterns such as annualised hours.</td>\n",
       "      <td>Made Tech supports a variety of working hours patterns, including but not limited to:\\n- 9-day fortnight\\n- Part-time\\n- Job share\\n- Flexible hours\\n- Remote working\\n\\nThey also offer a flexible benefits package that allows individuals to choose the benefits that suit their lifestyle, including the option to buy and sell up to 5 days of annual leave.</td>\n",
       "      <td>Made Tech supports a variety of working hours patterns, including full-time, part-time, and job share arrangements. They also offer flexible working hours, allowing employees to start and finish work at different times.</td>\n",
       "      <td>The provided context does not mention specific working hour patterns supported by Made Tech. It is best to reach out to Made Tech directly for information on their supported working hour patterns.</td>\n",
       "      <td>Made Tech supports flexible working hours patterns, including full-time, part-time, and job-sharing arrangements.</td>\n",
       "    </tr>\n",
       "    <tr>\n",
       "      <th>2</th>\n",
       "      <td>What is the other path to a salary adjustment at Made Tech apart from the annual review?</td>\n",
       "      <td>The other path to a salary adjustment at Made Tech apart from the annual review is through the Internal mobility process, which includes promotions or lateral moves within the financial year.</td>\n",
       "      <td>The other path to a salary adjustment at Made Tech apart from the annual review is through the Internal mobility process, which includes promotions or lateral moves within the financial year.</td>\n",
       "      <td>The other path to a salary adjustment at Made Tech apart from the annual review is through the promotion process.</td>\n",
       "      <td>The other path to a salary adjustment at Made Tech is through the Internal mobility process, which includes promotions or lateral moves within the financial year.</td>\n",
       "      <td>Employees can request a salary adjustment outside of the annual review process by submitting a formal request to their line manager. This request should include a clear justification for the adjustment, such as significant changes in job responsibilities or market conditions. The line manager will review the request and make a decision based on the company's salary adjustment policy.</td>\n",
       "    </tr>\n",
       "    <tr>\n",
       "      <th>3</th>\n",
       "      <td>What happens if the 28th of the month falls on a weekend or during a bank holiday at Made Tech?</td>\n",
       "      <td>If the 28th of the month falls on a weekend or during a bank holiday at Made Tech, the payday is moved to the Friday before.</td>\n",
       "      <td>If the 28th of the month falls on a weekend or during a bank holiday at Made Tech, the payday will be moved to the last working day before the 28th.</td>\n",
       "      <td>If the 28th of the month falls on a weekend or during a bank holiday at Made Tech, the company will pay employees on the last working day before the 28th.</td>\n",
       "      <td>If the 28th of the month falls on a weekend or during a bank holiday at Made Tech, the holiday requests will be reviewed and confirmed on the next working day after the weekend or bank holiday.</td>\n",
       "      <td>If the 28th of the month falls on a weekend or during a bank holiday at Made Tech, the salary payment will be made on the last working day before the 28th.</td>\n",
       "    </tr>\n",
       "    <tr>\n",
       "      <th>4</th>\n",
       "      <td>What happens to the old laptops once they have been returned at Made Tech?</td>\n",
       "      <td>The old laptops at Made Tech are either traded in or recycled, depending on their condition. If a laptop is not eligible for trade-in, such as if it has an iCloud lock, is too damaged, not working, or has no value, it undergoes a full disk wipe and is recycled by Green Machine Computers. On the other hand, if a laptop has trade-in value, it undergoes a full disk wipe, and preparations are made to maximize its trade-in valuation, such as removing stickers and cleaning the device. The laptop is then valued through Stormfront's trade-in service and sent to a trade-in partner for analysis. Any payment received from the trade-in is credited to Made Tech's next invoice.</td>\n",
       "      <td>Once the old laptops have been returned at Made Tech, they are either traded in or recycled, depending on their condition and trade-in value. If a laptop is not eligible for trade-in (e.g. has icloud lock, is too damaged, not working, no value), then Systemagic performs a full disk wipe and the laptop is recycled by Green Machine Computers. If a laptop has a trade-in value, then Systemagic performs a full disk wipe, prepares it to be in the best condition to maximize trade-in valuation (e.g. stickers removed, residue scrubbed off, device cleaned), and sends it to a trade-in partner for analysis. Any payment received from the trade-in is credited to MadeTech's next invoice.</td>\n",
       "      <td>The old laptops at Made Tech are sent to a third-party company called Tier 1. Tier 1 then refurbishes the laptops and sells them to new owners.</td>\n",
       "      <td>Once the old laptops have been returned at Made Tech, they are either traded in or recycled, depending on their condition and trade-in value. If a laptop is not eligible for trade-in (e.g., has icloud lock, is too damaged, not working, no value), it undergoes a full disk wipe and is recycled by Green Machine Computers. If a laptop has a trade-in value, it also undergoes a full disk wipe and is prepared to be in the best condition for trade-in valuation. Stickers are removed, residue is scrubbed off, and the device is cleaned. The laptop is then valued through Stormfront's trade-in service and sent to a trade-in partner for analysis. Any payment received from the trade-in is credited to Made Tech's next invoice.</td>\n",
       "      <td>Once old laptops are returned at Made Tech, they are securely wiped of all data and then either recycled or donated to a charitable organization.</td>\n",
       "    </tr>\n",
       "    <tr>\n",
       "      <th>...</th>\n",
       "      <td>...</td>\n",
       "      <td>...</td>\n",
       "      <td>...</td>\n",
       "      <td>...</td>\n",
       "      <td>...</td>\n",
       "      <td>...</td>\n",
       "    </tr>\n",
       "    <tr>\n",
       "      <th>95</th>\n",
       "      <td>How should chalet members record their time spent on 'Learning time' activities?</td>\n",
       "      <td>Chalet members should record their time spent on 'Learning time' activities as 'Bench/Chalet' in their timesheets.</td>\n",
       "      <td>Chalet members should record their time spent on 'Learning time' activities as 'Bench/Chalet' in their timesheets.</td>\n",
       "      <td>Chalet members should record their time spent on 'Learning time' activities as 'Chalet' in their timesheets.</td>\n",
       "      <td>Chalet members should record their time spent on 'Learning time' activities as 'Learning Time' in their timesheets.</td>\n",
       "      <td>Chalet members should record their time spent on 'Learning time' activities by logging it in the designated time tracking system or by submitting a timesheet to their supervisor.</td>\n",
       "    </tr>\n",
       "    <tr>\n",
       "      <th>96</th>\n",
       "      <td>What are the expectations from non-engineers during the on-boarding process at Made Tech?</td>\n",
       "      <td>Non-engineers at Made Tech are expected to complete the Github tutorial during the on-boarding process.</td>\n",
       "      <td>The information provided does not specify the expectations from non-engineers during the onboarding process at Made Tech.</td>\n",
       "      <td>Non-engineers at Made Tech are expected to complete the \"Introduction to Agile\" course on the Made Tech Academy platform during the on-boarding process.</td>\n",
       "      <td>The provided context does not explicitly mention the expectations from non-engineers during the onboarding process at Made Tech. Therefore, it is unclear what specific expectations non-engineers would have during onboarding. It would be best to reach out to Made Tech directly for more information on the onboarding process and expectations for non-engineers.</td>\n",
       "      <td>During the on-boarding process at Made Tech, non-engineers are expected to familiarize themselves with the company's values, culture, and processes. They should actively participate in team meetings, ask questions, and seek guidance from their colleagues. Non-engineers should also complete any required training and comply with company policies and procedures.</td>\n",
       "    </tr>\n",
       "    <tr>\n",
       "      <th>97</th>\n",
       "      <td>What is the process to submit expense claims at Made Tech?</td>\n",
       "      <td>Expense claims at Made Tech need to be submitted via Xero. If an employee does not have a login for Xero, they can drop a message in #ops-finance or email finance@madetech.com to request one. All expense claims must be made within 90 days and will typically be paid within 2 weeks. There are different approval processes in place depending on the type of expense. Normal expenses that align with the policy will be approved, but any claims that are outside of the guidelines will require approval from the employee's Head of Department. Expenses that are aligned to a specific delivery or account should be agreed upon with the Delivery Manager and/or account team in advance. Expenses for events and conferences need to be approved in advance by the relevant Head of Department. For any other information, employees should refer to the policy document and direct any questions to #ops-finance or finance@madetech.com.</td>\n",
       "      <td>Expense claims at Made Tech need to be submitted via Xero. If you don't have a login for Xero, you can drop a message in #ops-finance or email finance@madetech.com to request one. \\n\\nAll claims must be made within 90 days and will typically be paid within 2 weeks. \\n\\nThere are different approval processes depending on the type of expense:\\n- Normal expenses that align with the policy will be approved. However, any claims that are outside of the guidelines will need approval from your Head of Department.\\n- Expenses that are aligned to a specific delivery or account (e.g. client entertainment, travel to meetings) should be agreed with the Delivery Manager and/or account team in advance.\\n- Expenses for events and conferences need to be approved in advance by the relevant Head of Department.\\n\\nFor more information, you can read the policy document provided and direct any questions to #ops-finance or finance@madetech.com.</td>\n",
       "      <td>To submit expense claims at Made Tech, you need to use the Xero Expenses app. You can download this app on your phone or access it through the Xero website. When submitting an expense claim, you should select the appropriate category for your expense. If you are unsure about which category to choose, you can refer to the Expense Category Guide. It is important to note that all expenses should be submitted within 30 days of the expense being incurred. If you have any questions or need assistance with your expense claim, you can reach out to the Finance team.</td>\n",
       "      <td>Expense claims at Made Tech need to be submitted via Xero. If you don't have a login for Xero, you can drop a message in #ops-finance or email finance@madetech.com to request access. \\n\\nClaims must be made within 90 days and will typically be paid within 2 weeks. \\n\\nThere are different approval processes depending on the type of expense:\\n- Normal expenses: Claims that align with the policy will be approved. Claims outside of the guidelines will need approval from your Head of Department.\\n- Account expenses: Expenses aligned to a specific delivery or account should be agreed with the Delivery Manager and/or account team in advance.\\n- Events and conferences: Expenses need to be approved in advance by the relevant Head of Department.\\n\\nFor more information, please refer to the policy document and direct any questions to #ops-finance or finance@madetech.com.</td>\n",
       "      <td>To submit expense claims at Made Tech, employees should follow these steps:\\n\\n1. Fill out the expense claim form accurately and completely.\\n2. Attach all relevant receipts and supporting documentation.\\n3. Submit the completed form and receipts to the Finance department.\\n4. Allow for processing time, and reimbursement will be made via the chosen payment method.</td>\n",
       "    </tr>\n",
       "    <tr>\n",
       "      <th>98</th>\n",
       "      <td>How can employees at Made Tech expense Railcards for business travel?</td>\n",
       "      <td>To expense Railcards for business travel at Made Tech, employees need to follow these steps:\\n\\n1. Purchase a railcard.\\n2. Add the railcard to your TravelPerk account.\\n3. Take a screenshot to show that the railcard has been added.\\n4. Share the image and receipt on Xero when submitting the expense claim.\\n\\nIt's important to note that Made Tech will reimburse the price of any yearly railcard purchased from April 26th, 2023 onwards. If an employee leaves Made Tech, they will not be charged for the railcard and do not need to return it. However, railcards cannot be expensed during the notice period.</td>\n",
       "      <td>To expense Railcards for business travel at Made Tech, employees need to purchase a railcard and add it to their TravelPerk account. The price of any yearly railcard purchased from April 26th, 2023 onwards will be reimbursed by Made Tech. Once the railcard has been added, employees should take a screenshot to show that it has been added to their TravelPerk account. The image and receipt of the railcard purchase can then be shared on Xero when expensing it back. It's important to note that railcards cannot be expensed during the notice period and if an employee leaves Made Tech, they will not be charged for the railcard and do not need to return it.</td>\n",
       "      <td>Employees at Made Tech can expense Railcards for business travel by purchasing the Railcard themselves and then claiming the cost back through the expenses system. The Railcard should be purchased as a personal expense and not through the company.</td>\n",
       "      <td>Employees at Made Tech can expense Railcards for business travel by following these steps:\\n\\n1. Purchase a yearly railcard from April 26th, 2023 onwards.\\n2. Add the railcard to your TravelPerk account.\\n3. Take a screenshot to show that the railcard has been added.\\n4. Share the image of the railcard and the receipt on Xero when expensing it back.\\n\\nPlease note that railcards cannot be expensed during your notice period. If you leave Made Tech, you will not be charged for the railcard and you do not need to return it.</td>\n",
       "      <td>Employees at Made Tech can expense Railcards for business travel by submitting the original receipt along with the expense claim form to the Finance department.</td>\n",
       "    </tr>\n",
       "    <tr>\n",
       "      <th>99</th>\n",
       "      <td>How does Made Tech view the importance of face-to-face sessions in the context of hybrid working?</td>\n",
       "      <td>Made Tech views face-to-face sessions as an important aspect of hybrid working. They believe that organic purposeful face-to-face sessions help build relationships and stronger teams, which ultimately leads to better work for both their teams and clients. They encourage their team members to have 2-3 days a month in a Made Tech office for purpose-driven activities that contribute to valuable outputs and relationship building. This indicates that Made Tech recognizes the value of in-person interactions and aims to create opportunities for their teams to come together and collaborate.</td>\n",
       "      <td>Made Tech views face-to-face sessions as important in the context of hybrid working. They believe that bringing people together regularly creates more opportunities for relationships to be built within teams, across Made Tech, and with their clients and partners. They encourage organic purposeful face-to-face sessions that help build relationships and stronger teams, which in turn deliver even better work for their teams and clients. For group-facing team members and client-facing team members without a client onsite requirement, they encourage 2-3 days a month in a Made Tech office for purpose-driven activities that will help drive valuable outputs and relationship building. However, they also acknowledge that there may be circumstances where team members may not be able to attend sites or offices or may need additional support to do so. In such cases, they encourage reaching out to Line Managers and/or People Partners to discuss the best way to provide support.</td>\n",
       "      <td>Made Tech views face-to-face sessions as an important aspect of hybrid working. They believe that some activities are best suited for in-person collaboration and that there is value in bringing people together for certain events. However, they also recognize that not all work needs to be done in the office and that there are benefits to remote working. Therefore, they aim to strike a balance between in-person and remote activities, allowing teams to decide when and how often they need to come together for face-to-face sessions.</td>\n",
       "      <td>Made Tech views face-to-face sessions as important in the context of hybrid working. They believe that organic purposeful face-to-face sessions help build relationships and stronger teams, which ultimately leads to better work for both their teams and clients. They encourage group-facing and client-facing team members (without onsite client requirements) to spend 2-3 days a month in a Made Tech office for purpose-driven activities that drive valuable outputs and relationship building. They also emphasize the importance of regular opportunities for collaboration and alignment with client needs.</td>\n",
       "      <td>Made Tech recognizes the importance of face-to-face sessions in the context of hybrid working. We believe that in-person interactions can foster stronger relationships, collaboration, and creativity. While remote work is encouraged, we encourage teams to schedule regular face-to-face sessions to maintain a sense of connection and enhance teamwork.</td>\n",
       "    </tr>\n",
       "  </tbody>\n",
       "</table>\n",
       "<p>100 rows × 6 columns</p>\n",
       "</div>"
      ],
      "text/plain": [
       "                                                                                                query  \\\n",
       "0                      What is the policy at Made Tech regarding false allegations of discrimination?   \n",
       "1                                    What types of working hours patterns are supported by Made Tech?   \n",
       "2            What is the other path to a salary adjustment at Made Tech apart from the annual review?   \n",
       "3     What happens if the 28th of the month falls on a weekend or during a bank holiday at Made Tech?   \n",
       "4                          What happens to the old laptops once they have been returned at Made Tech?   \n",
       "..                                                                                                ...   \n",
       "95                   How should chalet members record their time spent on 'Learning time' activities?   \n",
       "96          What are the expectations from non-engineers during the on-boarding process at Made Tech?   \n",
       "97                                         What is the process to submit expense claims at Made Tech?   \n",
       "98                              How can employees at Made Tech expense Railcards for business travel?   \n",
       "99  How does Made Tech view the importance of face-to-face sessions in the context of hybrid working?   \n",
       "\n",
       "                                                                                                                                                                                                                                                                                                                                                                                                                                                                                                                                                                                                                                                                                                                                                                                                                                                                                                                                               gt_response  \\\n",
       "0                                                                                                                                                                                                                                                                                                                                                                                                                                                                                                                                                                                                                                                                                                                                                                                                                                                      Making a false allegation deliberately and in bad faith at Made Tech will be treated as misconduct.   \n",
       "1                                                                                                                                                                                                                                                                                                                                                                                                                                                                                                                                                                                                                                                                                                                                                                                                                     Made Tech supports reduced working hours patterns, but does not support compressed hours or other patterns such as annualised hours.   \n",
       "2                                                                                                                                                                                                                                                                                                                                                                                                                                                                                                                                                                                                                                                                                                                                                          The other path to a salary adjustment at Made Tech apart from the annual review is through the Internal mobility process, which includes promotions or lateral moves within the financial year.   \n",
       "3                                                                                                                                                                                                                                                                                                                                                                                                                                                                                                                                                                                                                                                                                                                                                                                                                             If the 28th of the month falls on a weekend or during a bank holiday at Made Tech, the payday is moved to the Friday before.   \n",
       "4                                                                                                                                                                                                                                                         The old laptops at Made Tech are either traded in or recycled, depending on their condition. If a laptop is not eligible for trade-in, such as if it has an iCloud lock, is too damaged, not working, or has no value, it undergoes a full disk wipe and is recycled by Green Machine Computers. On the other hand, if a laptop has trade-in value, it undergoes a full disk wipe, and preparations are made to maximize its trade-in valuation, such as removing stickers and cleaning the device. The laptop is then valued through Stormfront's trade-in service and sent to a trade-in partner for analysis. Any payment received from the trade-in is credited to Made Tech's next invoice.   \n",
       "..                                                                                                                                                                                                                                                                                                                                                                                                                                                                                                                                                                                                                                                                                                                                                                                                                                                                                                                                                     ...   \n",
       "95                                                                                                                                                                                                                                                                                                                                                                                                                                                                                                                                                                                                                                                                                                                                                                                                                                      Chalet members should record their time spent on 'Learning time' activities as 'Bench/Chalet' in their timesheets.   \n",
       "96                                                                                                                                                                                                                                                                                                                                                                                                                                                                                                                                                                                                                                                                                                                                                                                                                                                 Non-engineers at Made Tech are expected to complete the Github tutorial during the on-boarding process.   \n",
       "97  Expense claims at Made Tech need to be submitted via Xero. If an employee does not have a login for Xero, they can drop a message in #ops-finance or email finance@madetech.com to request one. All expense claims must be made within 90 days and will typically be paid within 2 weeks. There are different approval processes in place depending on the type of expense. Normal expenses that align with the policy will be approved, but any claims that are outside of the guidelines will require approval from the employee's Head of Department. Expenses that are aligned to a specific delivery or account should be agreed upon with the Delivery Manager and/or account team in advance. Expenses for events and conferences need to be approved in advance by the relevant Head of Department. For any other information, employees should refer to the policy document and direct any questions to #ops-finance or finance@madetech.com.   \n",
       "98                                                                                                                                                                                                                                                                                                                          To expense Railcards for business travel at Made Tech, employees need to follow these steps:\\n\\n1. Purchase a railcard.\\n2. Add the railcard to your TravelPerk account.\\n3. Take a screenshot to show that the railcard has been added.\\n4. Share the image and receipt on Xero when submitting the expense claim.\\n\\nIt's important to note that Made Tech will reimburse the price of any yearly railcard purchased from April 26th, 2023 onwards. If an employee leaves Made Tech, they will not be charged for the railcard and do not need to return it. However, railcards cannot be expensed during the notice period.   \n",
       "99                                                                                                                                                                                                                                                                                                                                           Made Tech views face-to-face sessions as an important aspect of hybrid working. They believe that organic purposeful face-to-face sessions help build relationships and stronger teams, which ultimately leads to better work for both their teams and clients. They encourage their team members to have 2-3 days a month in a Made Tech office for purpose-driven activities that contribute to valuable outputs and relationship building. This indicates that Made Tech recognizes the value of in-person interactions and aims to create opportunities for their teams to come together and collaborate.   \n",
       "\n",
       "                                                                                                                                                                                                                                                                                                                                                                                                                                                                                                                                                                                                                                                                                                                                                                                                                                                                                                                                                                                                      ft_rag_response  \\\n",
       "0                                                                                                                                                                                                                                                                                                                                                                                                                                                                                                                                                                                                                                                                                                                                                                                                                                                           Making a false allegation deliberately and in bad faith will be treated as misconduct according to Made Tech's equality, diversity, and inclusion policy.   \n",
       "1                                                                                                                                                                                                                                                                                                                                                                                                                                                                                                                                                                                                                                                  Made Tech supports a variety of working hours patterns, including but not limited to:\\n- 9-day fortnight\\n- Part-time\\n- Job share\\n- Flexible hours\\n- Remote working\\n\\nThey also offer a flexible benefits package that allows individuals to choose the benefits that suit their lifestyle, including the option to buy and sell up to 5 days of annual leave.   \n",
       "2                                                                                                                                                                                                                                                                                                                                                                                                                                                                                                                                                                                                                                                                                                                                                                                                                     The other path to a salary adjustment at Made Tech apart from the annual review is through the Internal mobility process, which includes promotions or lateral moves within the financial year.   \n",
       "3                                                                                                                                                                                                                                                                                                                                                                                                                                                                                                                                                                                                                                                                                                                                                                                                                                                                If the 28th of the month falls on a weekend or during a bank holiday at Made Tech, the payday will be moved to the last working day before the 28th.   \n",
       "4                                                                                                                                                                                                                                                                                                           Once the old laptops have been returned at Made Tech, they are either traded in or recycled, depending on their condition and trade-in value. If a laptop is not eligible for trade-in (e.g. has icloud lock, is too damaged, not working, no value), then Systemagic performs a full disk wipe and the laptop is recycled by Green Machine Computers. If a laptop has a trade-in value, then Systemagic performs a full disk wipe, prepares it to be in the best condition to maximize trade-in valuation (e.g. stickers removed, residue scrubbed off, device cleaned), and sends it to a trade-in partner for analysis. Any payment received from the trade-in is credited to MadeTech's next invoice.   \n",
       "..                                                                                                                                                                                                                                                                                                                                                                                                                                                                                                                                                                                                                                                                                                                                                                                                                                                                                                                                                                                                                ...   \n",
       "95                                                                                                                                                                                                                                                                                                                                                                                                                                                                                                                                                                                                                                                                                                                                                                                                                                                                                                 Chalet members should record their time spent on 'Learning time' activities as 'Bench/Chalet' in their timesheets.   \n",
       "96                                                                                                                                                                                                                                                                                                                                                                                                                                                                                                                                                                                                                                                                                                                                                                                                                                                                                          The information provided does not specify the expectations from non-engineers during the onboarding process at Made Tech.   \n",
       "97                                            Expense claims at Made Tech need to be submitted via Xero. If you don't have a login for Xero, you can drop a message in #ops-finance or email finance@madetech.com to request one. \\n\\nAll claims must be made within 90 days and will typically be paid within 2 weeks. \\n\\nThere are different approval processes depending on the type of expense:\\n- Normal expenses that align with the policy will be approved. However, any claims that are outside of the guidelines will need approval from your Head of Department.\\n- Expenses that are aligned to a specific delivery or account (e.g. client entertainment, travel to meetings) should be agreed with the Delivery Manager and/or account team in advance.\\n- Expenses for events and conferences need to be approved in advance by the relevant Head of Department.\\n\\nFor more information, you can read the policy document provided and direct any questions to #ops-finance or finance@madetech.com.   \n",
       "98                                                                                                                                                                                                                                                                                                                                   To expense Railcards for business travel at Made Tech, employees need to purchase a railcard and add it to their TravelPerk account. The price of any yearly railcard purchased from April 26th, 2023 onwards will be reimbursed by Made Tech. Once the railcard has been added, employees should take a screenshot to show that it has been added to their TravelPerk account. The image and receipt of the railcard purchase can then be shared on Xero when expensing it back. It's important to note that railcards cannot be expensed during the notice period and if an employee leaves Made Tech, they will not be charged for the railcard and do not need to return it.   \n",
       "99  Made Tech views face-to-face sessions as important in the context of hybrid working. They believe that bringing people together regularly creates more opportunities for relationships to be built within teams, across Made Tech, and with their clients and partners. They encourage organic purposeful face-to-face sessions that help build relationships and stronger teams, which in turn deliver even better work for their teams and clients. For group-facing team members and client-facing team members without a client onsite requirement, they encourage 2-3 days a month in a Made Tech office for purpose-driven activities that will help drive valuable outputs and relationship building. However, they also acknowledge that there may be circumstances where team members may not be able to attend sites or offices or may need additional support to do so. In such cases, they encourage reaching out to Line Managers and/or People Partners to discuss the best way to provide support.   \n",
       "\n",
       "                                                                                                                                                                                                                                                                                                                                                                                                                                                                                                                                                                            ft_response  \\\n",
       "0                                                                                                                                                                                                                                                                                                                                                                                                                                                                             Made Tech takes false allegations of discrimination seriously and they may result in disciplinary action.   \n",
       "1                                                                                                                                                                                                                                                                                                                                                           Made Tech supports a variety of working hours patterns, including full-time, part-time, and job share arrangements. They also offer flexible working hours, allowing employees to start and finish work at different times.   \n",
       "2                                                                                                                                                                                                                                                                                                                                                                                                                                                                     The other path to a salary adjustment at Made Tech apart from the annual review is through the promotion process.   \n",
       "3                                                                                                                                                                                                                                                                                                                                                                                                                            If the 28th of the month falls on a weekend or during a bank holiday at Made Tech, the company will pay employees on the last working day before the 28th.   \n",
       "4                                                                                                                                                                                                                                                                                                                                                                                                                                       The old laptops at Made Tech are sent to a third-party company called Tier 1. Tier 1 then refurbishes the laptops and sells them to new owners.   \n",
       "..                                                                                                                                                                                                                                                                                                                                                                                                                                                                                                                                                                                  ...   \n",
       "95                                                                                                                                                                                                                                                                                                                                                                                                                                                                         Chalet members should record their time spent on 'Learning time' activities as 'Chalet' in their timesheets.   \n",
       "96                                                                                                                                                                                                                                                                                                                                                                                                                             Non-engineers at Made Tech are expected to complete the \"Introduction to Agile\" course on the Made Tech Academy platform during the on-boarding process.   \n",
       "97  To submit expense claims at Made Tech, you need to use the Xero Expenses app. You can download this app on your phone or access it through the Xero website. When submitting an expense claim, you should select the appropriate category for your expense. If you are unsure about which category to choose, you can refer to the Expense Category Guide. It is important to note that all expenses should be submitted within 30 days of the expense being incurred. If you have any questions or need assistance with your expense claim, you can reach out to the Finance team.   \n",
       "98                                                                                                                                                                                                                                                                                                                              Employees at Made Tech can expense Railcards for business travel by purchasing the Railcard themselves and then claiming the cost back through the expenses system. The Railcard should be purchased as a personal expense and not through the company.   \n",
       "99                                Made Tech views face-to-face sessions as an important aspect of hybrid working. They believe that some activities are best suited for in-person collaboration and that there is value in bringing people together for certain events. However, they also recognize that not all work needs to be done in the office and that there are benefits to remote working. Therefore, they aim to strike a balance between in-person and remote activities, allowing teams to decide when and how often they need to come together for face-to-face sessions.   \n",
       "\n",
       "                                                                                                                                                                                                                                                                                                                                                                                                                                                                                                                                                                                                                                                                                                                                                                                                                                                                                                rag_response  \\\n",
       "0                                                                                                                                                                                                                                                                                                                                                                                                                                                                                                                                                                                                                                                                                                                                                                                     Making a false allegation deliberately and in bad faith will be treated as misconduct according to Made Tech's policy.   \n",
       "1                                                                                                                                                                                                                                                                                                                                                                                                                                                                                                                                                                                                                                                                                                       The provided context does not mention specific working hour patterns supported by Made Tech. It is best to reach out to Made Tech directly for information on their supported working hour patterns.   \n",
       "2                                                                                                                                                                                                                                                                                                                                                                                                                                                                                                                                                                                                                                                                                                                                         The other path to a salary adjustment at Made Tech is through the Internal mobility process, which includes promotions or lateral moves within the financial year.   \n",
       "3                                                                                                                                                                                                                                                                                                                                                                                                                                                                                                                                                                                                                                                                                                          If the 28th of the month falls on a weekend or during a bank holiday at Made Tech, the holiday requests will be reviewed and confirmed on the next working day after the weekend or bank holiday.   \n",
       "4                                                                                                                                                           Once the old laptops have been returned at Made Tech, they are either traded in or recycled, depending on their condition and trade-in value. If a laptop is not eligible for trade-in (e.g., has icloud lock, is too damaged, not working, no value), it undergoes a full disk wipe and is recycled by Green Machine Computers. If a laptop has a trade-in value, it also undergoes a full disk wipe and is prepared to be in the best condition for trade-in valuation. Stickers are removed, residue is scrubbed off, and the device is cleaned. The laptop is then valued through Stormfront's trade-in service and sent to a trade-in partner for analysis. Any payment received from the trade-in is credited to Made Tech's next invoice.   \n",
       "..                                                                                                                                                                                                                                                                                                                                                                                                                                                                                                                                                                                                                                                                                                                                                                                                                                                                                                       ...   \n",
       "95                                                                                                                                                                                                                                                                                                                                                                                                                                                                                                                                                                                                                                                                                                                                                                                       Chalet members should record their time spent on 'Learning time' activities as 'Learning Time' in their timesheets.   \n",
       "96                                                                                                                                                                                                                                                                                                                                                                                                                                                                                                                                   The provided context does not explicitly mention the expectations from non-engineers during the onboarding process at Made Tech. Therefore, it is unclear what specific expectations non-engineers would have during onboarding. It would be best to reach out to Made Tech directly for more information on the onboarding process and expectations for non-engineers.   \n",
       "97  Expense claims at Made Tech need to be submitted via Xero. If you don't have a login for Xero, you can drop a message in #ops-finance or email finance@madetech.com to request access. \\n\\nClaims must be made within 90 days and will typically be paid within 2 weeks. \\n\\nThere are different approval processes depending on the type of expense:\\n- Normal expenses: Claims that align with the policy will be approved. Claims outside of the guidelines will need approval from your Head of Department.\\n- Account expenses: Expenses aligned to a specific delivery or account should be agreed with the Delivery Manager and/or account team in advance.\\n- Events and conferences: Expenses need to be approved in advance by the relevant Head of Department.\\n\\nFor more information, please refer to the policy document and direct any questions to #ops-finance or finance@madetech.com.   \n",
       "98                                                                                                                                                                                                                                                                                                                                                            Employees at Made Tech can expense Railcards for business travel by following these steps:\\n\\n1. Purchase a yearly railcard from April 26th, 2023 onwards.\\n2. Add the railcard to your TravelPerk account.\\n3. Take a screenshot to show that the railcard has been added.\\n4. Share the image of the railcard and the receipt on Xero when expensing it back.\\n\\nPlease note that railcards cannot be expensed during your notice period. If you leave Made Tech, you will not be charged for the railcard and you do not need to return it.   \n",
       "99                                                                                                                                                                                                                                                                                  Made Tech views face-to-face sessions as important in the context of hybrid working. They believe that organic purposeful face-to-face sessions help build relationships and stronger teams, which ultimately leads to better work for both their teams and clients. They encourage group-facing and client-facing team members (without onsite client requirements) to spend 2-3 days a month in a Made Tech office for purpose-driven activities that drive valuable outputs and relationship building. They also emphasize the importance of regular opportunities for collaboration and alignment with client needs.   \n",
       "\n",
       "                                                                                                                                                                                                                                                                                                                                                                                         base_response  \n",
       "0                                                                                                                                                                       Made Tech takes false allegations of discrimination very seriously. Any employee found to have made a false allegation of discrimination may be subject to disciplinary action, up to and including termination of employment.  \n",
       "1                                                                                                                                                                                                                                                                                    Made Tech supports flexible working hours patterns, including full-time, part-time, and job-sharing arrangements.  \n",
       "2   Employees can request a salary adjustment outside of the annual review process by submitting a formal request to their line manager. This request should include a clear justification for the adjustment, such as significant changes in job responsibilities or market conditions. The line manager will review the request and make a decision based on the company's salary adjustment policy.  \n",
       "3                                                                                                                                                                                                                                          If the 28th of the month falls on a weekend or during a bank holiday at Made Tech, the salary payment will be made on the last working day before the 28th.  \n",
       "4                                                                                                                                                                                                                                                    Once old laptops are returned at Made Tech, they are securely wiped of all data and then either recycled or donated to a charitable organization.  \n",
       "..                                                                                                                                                                                                                                                                                                                                                                                                 ...  \n",
       "95                                                                                                                                                                                                                  Chalet members should record their time spent on 'Learning time' activities by logging it in the designated time tracking system or by submitting a timesheet to their supervisor.  \n",
       "96                           During the on-boarding process at Made Tech, non-engineers are expected to familiarize themselves with the company's values, culture, and processes. They should actively participate in team meetings, ask questions, and seek guidance from their colleagues. Non-engineers should also complete any required training and comply with company policies and procedures.  \n",
       "97                      To submit expense claims at Made Tech, employees should follow these steps:\\n\\n1. Fill out the expense claim form accurately and completely.\\n2. Attach all relevant receipts and supporting documentation.\\n3. Submit the completed form and receipts to the Finance department.\\n4. Allow for processing time, and reimbursement will be made via the chosen payment method.  \n",
       "98                                                                                                                                                                                                                                    Employees at Made Tech can expense Railcards for business travel by submitting the original receipt along with the expense claim form to the Finance department.  \n",
       "99                                       Made Tech recognizes the importance of face-to-face sessions in the context of hybrid working. We believe that in-person interactions can foster stronger relationships, collaboration, and creativity. While remote work is encouraged, we encourage teams to schedule regular face-to-face sessions to maintain a sense of connection and enhance teamwork.  \n",
       "\n",
       "[100 rows x 6 columns]"
      ]
     },
     "metadata": {},
     "output_type": "display_data"
    }
   ],
   "source": [
    "display(eval_dict)\n",
    "display(sub_responses_df)"
   ]
  },
  {
   "cell_type": "markdown",
   "metadata": {},
   "source": [
    "# Evaluate LLM models in LangSmith"
   ]
  },
  {
   "cell_type": "markdown",
   "metadata": {},
   "source": [
    "## Create LangSmith LLM Dataset"
   ]
  },
  {
   "cell_type": "code",
   "execution_count": 96,
   "metadata": {},
   "outputs": [],
   "source": [
    "\n",
    "from langsmith import Client\n",
    "\n",
    "client = Client()\n",
    "dataset = client.create_dataset(dataset_name=\"MadeTech Dataset\", description=\"Made Tech Handbook dataset with LLM inputs and outputs\", data_type=\"llm\")\n",
    "\n",
    "for eval_dict in eval_dicts:\n",
    "    client.create_example(\n",
    "        inputs={\"input\": eval_dict[\"query\"]},\n",
    "        outputs={\"output\": eval_dict[\"response\"]},\n",
    "        dataset_id=dataset.id,\n",
    "        # Or dataset_name=\"My LLM Dataset\"\n",
    "    )"
   ]
  },
  {
   "cell_type": "markdown",
   "metadata": {},
   "source": [
    "## Evaluate BaseLine LLM in LangSmith"
   ]
  },
  {
   "cell_type": "code",
   "execution_count": null,
   "metadata": {},
   "outputs": [],
   "source": [
    "import langsmith\n",
    "from langchain.chat_models import ChatOpenAI\n",
    "from langchain import smith\n",
    "\n",
    "# Replace with the LLM you want to test\n",
    "my_llm = ChatOpenAI(model=baseline_llm_model,temperature=0)\n",
    "\n",
    "# Define the evaluators to apply\n",
    "eval_config = smith.RunEvalConfig(\n",
    "    evaluators=[\n",
    "        \"cot_qa\"\n",
    "    ],\n",
    "    custom_evaluators=[],\n",
    "    eval_llm=ChatOpenAI(model=\"gpt-4\", temperature=0)\n",
    ")\n",
    "\n",
    "client = langsmith.Client()\n",
    "chain_results = client.run_on_dataset(\n",
    "    dataset_name=\"MadeTech Dataset\",\n",
    "    llm_or_chain_factory=my_llm,\n",
    "    evaluation=eval_config,\n",
    "    project_name=\"test-baseline-llm-22\",\n",
    "    verbose=True,\n",
    "    tags=[\"baseline\", \"llm\"],\n",
    ")"
   ]
  },
  {
   "cell_type": "markdown",
   "metadata": {},
   "source": [
    "## Evaluate Fine Tuned LLM in LangSmith"
   ]
  },
  {
   "cell_type": "code",
   "execution_count": 109,
   "metadata": {},
   "outputs": [
    {
     "name": "stdout",
     "output_type": "stream",
     "text": [
      "View the evaluation results for project 'test-fine-tuned-llm-23' at:\n",
      "https://smith.langchain.com/o/f09d95d4-78e8-5dcb-a136-09de2b589be4/projects/p/57515a66-a598-465c-9871-6e9bdd9d3790\n",
      "[--------------------------------------->          ] 81/100"
     ]
    },
    {
     "name": "stderr",
     "output_type": "stream",
     "text": [
      "Retrying langchain.chat_models.openai.ChatOpenAI.completion_with_retry.<locals>._completion_with_retry in 4.0 seconds as it raised RateLimitError: Rate limit reached for 10KTPM-200RPM in organization org-f5H7bPv9fgPptJoKt2f4cPHG on tokens per min. Limit: 10000 / min. Please try again in 6ms. Contact us through our help center at help.openai.com if you continue to have issues..\n"
     ]
    },
    {
     "name": "stdout",
     "output_type": "stream",
     "text": [
      "[------------------------------------------->      ] 89/100"
     ]
    },
    {
     "name": "stderr",
     "output_type": "stream",
     "text": [
      "Retrying langchain.chat_models.openai.ChatOpenAI.completion_with_retry.<locals>._completion_with_retry in 4.0 seconds as it raised RateLimitError: Rate limit reached for 10KTPM-200RPM in organization org-f5H7bPv9fgPptJoKt2f4cPHG on tokens per min. Limit: 10000 / min. Please try again in 6ms. Contact us through our help center at help.openai.com if you continue to have issues..\n"
     ]
    },
    {
     "name": "stdout",
     "output_type": "stream",
     "text": [
      "[--------------------------------------------->    ] 93/100"
     ]
    },
    {
     "name": "stderr",
     "output_type": "stream",
     "text": [
      "Retrying langchain.chat_models.openai.ChatOpenAI.completion_with_retry.<locals>._completion_with_retry in 4.0 seconds as it raised RateLimitError: Rate limit reached for 10KTPM-200RPM in organization org-f5H7bPv9fgPptJoKt2f4cPHG on tokens per min. Limit: 10000 / min. Please try again in 6ms. Contact us through our help center at help.openai.com if you continue to have issues..\n"
     ]
    },
    {
     "name": "stdout",
     "output_type": "stream",
     "text": [
      "[------------------------------------------------->] 100/100\n",
      " Eval quantiles:\n",
      "                         0.25  0.50  0.75\n",
      "COT Contextual Accuracy   0.0   0.0   1.0\n"
     ]
    }
   ],
   "source": [
    "import langsmith\n",
    "from langchain.chat_models import ChatOpenAI\n",
    "from langchain import smith\n",
    "\n",
    "# Replace with the LLM you want to test\n",
    "my_llm = ChatOpenAI(model=ft_llm_model, temperature=0)\n",
    "\n",
    "# Define the evaluators to apply\n",
    "eval_config = smith.RunEvalConfig(\n",
    "    evaluators=[\n",
    "        \"cot_qa\"\n",
    "    ],\n",
    "    custom_evaluators=[],\n",
    "    eval_llm=ChatOpenAI(model=\"gpt-4\", temperature=0)\n",
    ")\n",
    "\n",
    "client = langsmith.Client()\n",
    "chain_results = client.run_on_dataset(\n",
    "    dataset_name=\"MadeTech Dataset\",\n",
    "    llm_or_chain_factory=my_llm,\n",
    "    evaluation=eval_config,\n",
    "    project_name=\"test-fine-tuned-llm-23\",\n",
    "    verbose=True,\n",
    "    tags=[\"ft\", \"llm\"],\n",
    ")"
   ]
  },
  {
   "cell_type": "markdown",
   "metadata": {},
   "source": [
    "# RAG Evaluation"
   ]
  },
  {
   "cell_type": "markdown",
   "metadata": {},
   "source": [
    "## Create LangSmith KV Dataset"
   ]
  },
  {
   "cell_type": "code",
   "execution_count": 110,
   "metadata": {},
   "outputs": [],
   "source": [
    "from langsmith import Client\n",
    "\n",
    "client = Client()\n",
    "dataset = client.create_dataset(dataset_name=\"MadeTech Dataset KV\", description=\"Made Tech Handbook dataset with LLM inputs and outputs\", data_type=\"kv\")\n",
    "\n",
    "for eval_dict in eval_dicts:\n",
    "    client.create_example(\n",
    "        inputs={\"input\": eval_dict[\"query\"]},\n",
    "        outputs={\"output\": eval_dict[\"response\"]},\n",
    "        dataset_id=dataset.id,\n",
    "        # Or dataset_name=\"My LLM Dataset\"\n",
    "    )"
   ]
  },
  {
   "cell_type": "markdown",
   "metadata": {},
   "source": [
    "## Evaluate BaseLine RAG in LangSmith"
   ]
  },
  {
   "cell_type": "code",
   "execution_count": 116,
   "metadata": {},
   "outputs": [
    {
     "name": "stdout",
     "output_type": "stream",
     "text": [
      "View the evaluation results for project 'test-rag-baseline-27' at:\n",
      "https://smith.langchain.com/o/f09d95d4-78e8-5dcb-a136-09de2b589be4/projects/p/8af439de-859f-47df-8ec3-c092afa78729\n",
      "[------------------------------------------------> ] 98/100"
     ]
    },
    {
     "name": "stderr",
     "output_type": "stream",
     "text": [
      "Retrying langchain.chat_models.openai.ChatOpenAI.completion_with_retry.<locals>._completion_with_retry in 4.0 seconds as it raised Timeout: Request timed out: HTTPSConnectionPool(host='api.openai.com', port=443): Read timed out. (read timeout=600).\n"
     ]
    },
    {
     "name": "stdout",
     "output_type": "stream",
     "text": [
      "[------------------------------------------------->] 99/100"
     ]
    },
    {
     "name": "stderr",
     "output_type": "stream",
     "text": [
      "Retrying langchain.chat_models.openai.ChatOpenAI.completion_with_retry.<locals>._completion_with_retry in 4.0 seconds as it raised Timeout: Request timed out: HTTPSConnectionPool(host='api.openai.com', port=443): Read timed out. (read timeout=600).\n"
     ]
    },
    {
     "name": "stdout",
     "output_type": "stream",
     "text": [
      "[------------------------------------------------->] 100/100\n",
      " Eval quantiles:\n",
      "                         0.25  0.50  0.75\n",
      "COT Contextual Accuracy   0.0   1.0   1.0\n"
     ]
    }
   ],
   "source": [
    "import langsmith\n",
    "from langchain.chat_models import ChatOpenAI\n",
    "from langchain import smith\n",
    "\n",
    "retriever = vectordb.as_retriever(search_type=\"mmr\", search_kwargs={'fetch_k': 5, 'k': 7})\n",
    "llm = ChatOpenAI(model_name=baseline_llm_model, temperature=0)\n",
    "\n",
    "def chain_constructor():\n",
    "    return RetrievalQA.from_chain_type(\n",
    "    llm,\n",
    "    retriever=retriever,\n",
    ")\n",
    "\n",
    "qa_chain = RetrievalQA.from_chain_type(\n",
    "    llm,\n",
    "    retriever=retriever,\n",
    ")\n",
    "\n",
    "# Define the evaluators to apply\n",
    "eval_config = smith.RunEvalConfig(\n",
    "    evaluators=[\n",
    "        \"cot_qa\"\n",
    "    ],\n",
    "    custom_evaluators=[],\n",
    "    eval_llm=ChatOpenAI(model=\"gpt-4\", temperature=0)\n",
    ")\n",
    "\n",
    "client = langsmith.Client()\n",
    "chain_results = client.run_on_dataset(\n",
    "    dataset_name=\"MadeTech Dataset KV\",\n",
    "    llm_or_chain_factory=chain_constructor,\n",
    "    evaluation=eval_config,\n",
    "    project_name=\"test-rag-baseline-27\",\n",
    "    verbose=True,\n",
    "    tags=[\"rag\", \"baseline\"],\n",
    ")\n"
   ]
  },
  {
   "cell_type": "markdown",
   "metadata": {},
   "source": [
    "## Evaluate Fine Tune RAG in LangSmith"
   ]
  },
  {
   "cell_type": "code",
   "execution_count": 121,
   "metadata": {},
   "outputs": [
    {
     "name": "stdout",
     "output_type": "stream",
     "text": [
      "View the evaluation results for project 'test-rag-ft-28' at:\n",
      "https://smith.langchain.com/o/f09d95d4-78e8-5dcb-a136-09de2b589be4/projects/p/c9be9a2b-0c22-4e97-9512-e605d9b6a17d\n",
      "[----------------------->                          ] 48/100"
     ]
    },
    {
     "name": "stderr",
     "output_type": "stream",
     "text": [
      "Failed to post https://api.langchain.plus/runs in LangSmith API. 409 Client Error: Conflict for url: https://api.langchain.plus/runs\n",
      "{\"detail\":\"Run with this id already exists\"}\n",
      "Error in LangChainTracer.on_chat_model_start callback: Failed to post https://api.langchain.plus/runs in LangSmith API. 409 Client Error: Conflict for url: https://api.langchain.plus/runs\n",
      "{\"detail\":\"Run with this id already exists\"}\n",
      "Error in LangChainTracer.on_chat_model_start callback: Failed to post https://api.langchain.plus/runs in LangSmith API. 409 Client Error: Conflict for url: https://api.langchain.plus/runs\n",
      "{\"detail\":\"Run with this id already exists\"}\n",
      "Error in LangChainTracer.on_chain_end callback: Failed to patch https://api.langchain.plus/runs/11013266-88cc-4d08-a861-80dfa6beb8cf in LangSmith API. 400 Client Error: Bad Request for url: https://api.langchain.plus/runs/11013266-88cc-4d08-a861-80dfa6beb8cf\n",
      "{\"detail\":\"Cannot update a run that has already finished\"}\n"
     ]
    },
    {
     "name": "stdout",
     "output_type": "stream",
     "text": [
      "[----------------------->                          ] 49/100"
     ]
    },
    {
     "name": "stderr",
     "output_type": "stream",
     "text": [
      "Error in LangChainTracer.on_chain_start callback: Failed to post https://api.langchain.plus/runs in LangSmith API. 409 Client Error: Conflict for url: https://api.langchain.plus/runs\n",
      "{\"detail\":\"Run with this id already exists\"}\n"
     ]
    },
    {
     "name": "stdout",
     "output_type": "stream",
     "text": [
      "[------------------------------------------->      ] 87/100"
     ]
    },
    {
     "name": "stderr",
     "output_type": "stream",
     "text": [
      "Retrying langchain.chat_models.openai.ChatOpenAI.completion_with_retry.<locals>._completion_with_retry in 4.0 seconds as it raised Timeout: Request timed out: HTTPSConnectionPool(host='api.openai.com', port=443): Read timed out. (read timeout=600).\n",
      "Retrying langchain.chat_models.openai.ChatOpenAI.completion_with_retry.<locals>._completion_with_retry in 4.0 seconds as it raised Timeout: Request timed out: HTTPSConnectionPool(host='api.openai.com', port=443): Read timed out. (read timeout=600).\n",
      "Retrying langchain.embeddings.openai.embed_with_retry.<locals>._embed_with_retry in 4.0 seconds as it raised Timeout: Request timed out: HTTPSConnectionPool(host='api.openai.com', port=443): Read timed out. (read timeout=600).\n",
      "Retrying langchain.chat_models.openai.ChatOpenAI.completion_with_retry.<locals>._completion_with_retry in 4.0 seconds as it raised Timeout: Request timed out: HTTPSConnectionPool(host='api.openai.com', port=443): Read timed out. (read timeout=600).\n"
     ]
    },
    {
     "name": "stdout",
     "output_type": "stream",
     "text": [
      "[------------------------------------------------->] 100/100\n",
      " Eval quantiles:\n",
      "                         0.25  0.50  0.75\n",
      "COT Contextual Accuracy   0.0   1.0   1.0\n"
     ]
    }
   ],
   "source": [
    "import langsmith\n",
    "from langchain.chat_models import ChatOpenAI\n",
    "from langchain import smith\n",
    "\n",
    "retriever = vectordb.as_retriever(search_type=\"mmr\", search_kwargs={'fetch_k': 5, 'k': 7})\n",
    "llm = ChatOpenAI(model_name=ft_llm_model, temperature=0)\n",
    "\n",
    "def chain_constructor():\n",
    "    return RetrievalQA.from_chain_type(\n",
    "    llm,\n",
    "    retriever=retriever,\n",
    ")\n",
    "\n",
    "qa_chain = RetrievalQA.from_chain_type(\n",
    "    llm,\n",
    "    retriever=retriever,\n",
    ")\n",
    "\n",
    "# Define the evaluators to apply\n",
    "eval_config = smith.RunEvalConfig(\n",
    "    evaluators=[\n",
    "        \"cot_qa\"\n",
    "    ],\n",
    "    custom_evaluators=[],\n",
    "    eval_llm=ChatOpenAI(model=\"gpt-4\", temperature=0)\n",
    ")\n",
    "\n",
    "client = langsmith.Client()\n",
    "chain_results = client.run_on_dataset(\n",
    "    dataset_name=\"MadeTech Dataset KV\",\n",
    "    llm_or_chain_factory=chain_constructor,\n",
    "    evaluation=eval_config,\n",
    "    project_name=\"test-rag-ft-28\",\n",
    "    verbose=True,\n",
    "    tags=[\"ft\", \"rag\"],\n",
    ")"
   ]
  }
 ],
 "metadata": {
  "kernelspec": {
   "display_name": ".venv",
   "language": "python",
   "name": "python3"
  },
  "language_info": {
   "codemirror_mode": {
    "name": "ipython",
    "version": 3
   },
   "file_extension": ".py",
   "mimetype": "text/x-python",
   "name": "python",
   "nbconvert_exporter": "python",
   "pygments_lexer": "ipython3",
   "version": "3.11.3"
  },
  "orig_nbformat": 4
 },
 "nbformat": 4,
 "nbformat_minor": 2
}
