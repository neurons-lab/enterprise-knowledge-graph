{
 "cells": [
  {
   "cell_type": "markdown",
   "metadata": {},
   "source": [
    "# Introduction\n",
    "\n",
    "![image](./imgs/0_title.png)\n",
    "\n",
    "# Concept Diagram\n",
    "\n",
    "![image](./imgs/1_vision.png)\n",
    "\n",
    "# Knowledge Sources\n",
    "\n",
    "![image](./imgs/2_knowledge_sources.png)\n",
    "\n",
    "# Handbook Samples\n",
    "\n",
    "- https://github.com/basecamp/handbook\n",
    "- https://github.com/madetech/handbook\n",
    "- https://yolospace.notion.site/Onboarding-Employee-Handbooks-138a98bd392a45da910d74b900300194"
   ]
  },
  {
   "cell_type": "code",
   "execution_count": null,
   "metadata": {},
   "outputs": [],
   "source": [
    "!rm -rf handbook\n",
    "!git clone https://github.com/madetech/handbook.git handbook"
   ]
  },
  {
   "cell_type": "markdown",
   "metadata": {},
   "source": [
    "# Initial Setup"
   ]
  },
  {
   "cell_type": "code",
   "execution_count": null,
   "metadata": {},
   "outputs": [],
   "source": [
    "import boto3\n",
    "import os\n",
    "\n",
    "def get_openai_api_key(ssm_client, parameter_path):\n",
    "    '''Get the OpenAI API key from the SSM Parameter Store'''\n",
    "    try:\n",
    "        response = ssm_client.get_parameter(\n",
    "            Name=parameter_path,\n",
    "            WithDecryption=True\n",
    "        )\n",
    "        return response['Parameter']['Value']\n",
    "    except ssm_client.exceptions.ParameterNotFound:\n",
    "        raise Exception(f'Parameter {parameter_path} not found in SSM Parameter Store')\n",
    "\n",
    "region_name = os.getenv('AWS_REGION', 'us-east-1') \n",
    "API_KEY_PARAMETER_PATH = '/openai/api_key'\n",
    "# Create an SSM client using Boto3\n",
    "ssm = boto3.client('ssm', region_name=region_name)\n",
    "\n",
    "openai_api_key = get_openai_api_key(ssm_client=ssm, parameter_path=API_KEY_PARAMETER_PATH)\n",
    "os.environ['OPENAI_API_KEY'] = openai_api_key\n",
    "\n",
    "llm_model = \"gpt-3.5-turbo\"\n"
   ]
  },
  {
   "cell_type": "markdown",
   "metadata": {},
   "source": [
    "# Load Documents"
   ]
  },
  {
   "cell_type": "code",
   "execution_count": null,
   "metadata": {},
   "outputs": [],
   "source": [
    "# Build a sample vectorDB\n",
    "\n",
    "from langchain.document_loaders import DirectoryLoader\n",
    "from langchain.document_loaders import TextLoader\n",
    "\n",
    "loader = DirectoryLoader(\n",
    "    \"./handbook\", glob=\"**/*.md\", show_progress=True, loader_cls=TextLoader\n",
    ")\n",
    "documents = loader.load()"
   ]
  },
  {
   "cell_type": "code",
   "execution_count": null,
   "metadata": {},
   "outputs": [],
   "source": [
    "documents[0].metadata"
   ]
  },
  {
   "cell_type": "code",
   "execution_count": null,
   "metadata": {},
   "outputs": [],
   "source": [
    "print(documents[0].page_content[:100])"
   ]
  },
  {
   "cell_type": "markdown",
   "metadata": {},
   "source": [
    "# Split Documents with Context"
   ]
  },
  {
   "cell_type": "code",
   "execution_count": null,
   "metadata": {},
   "outputs": [],
   "source": [
    "from langchain.text_splitter import MarkdownHeaderTextSplitter\n",
    "\n",
    "def split_documents(documents):\n",
    "    result_documents = []\n",
    "    headers_to_split_on = [\n",
    "        (\"#\", \"Header 1\"),\n",
    "        (\"##\", \"Header 2\"),\n",
    "        (\"###\", \"Header 3\"),\n",
    "        (\"####\", \"Header 4\"),\n",
    "    ]\n",
    "    markdown_splitter = MarkdownHeaderTextSplitter(\n",
    "        headers_to_split_on=headers_to_split_on\n",
    "    )\n",
    "    for document in documents:\n",
    "        md_header_splits = markdown_splitter.split_text(document.page_content)\n",
    "\n",
    "\n",
    "        for split in md_header_splits:\n",
    "            split.metadata.update(document.metadata)\n",
    "            result_documents.append(split)\n",
    "\n",
    "    return result_documents"
   ]
  },
  {
   "cell_type": "code",
   "execution_count": null,
   "metadata": {},
   "outputs": [],
   "source": [
    "splitted_documents = split_documents(documents)"
   ]
  },
  {
   "cell_type": "code",
   "execution_count": null,
   "metadata": {},
   "outputs": [],
   "source": [
    "print(len(splitted_documents))"
   ]
  },
  {
   "cell_type": "code",
   "execution_count": null,
   "metadata": {},
   "outputs": [],
   "source": [
    "from IPython.display import display, Markdown\n",
    "\n",
    "display(Markdown(splitted_documents[0].page_content))\n",
    "print(\"# Metadata:\")\n",
    "print(splitted_documents[0].metadata)"
   ]
  },
  {
   "cell_type": "markdown",
   "metadata": {},
   "source": [
    "# Create Chroma Vector DB"
   ]
  },
  {
   "cell_type": "code",
   "execution_count": null,
   "metadata": {},
   "outputs": [],
   "source": [
    "!rm -rf ./docs/chroma\n",
    "from langchain.embeddings.openai import OpenAIEmbeddings\n",
    "embedding = OpenAIEmbeddings()\n",
    "\n",
    "from langchain.vectorstores import Chroma\n",
    "persist_directory = 'docs/chroma/'\n",
    "\n",
    "vectordb = Chroma.from_documents(\n",
    "    documents=splitted_documents,\n",
    "    embedding=embedding,\n",
    "    persist_directory=persist_directory\n",
    ")"
   ]
  },
  {
   "cell_type": "markdown",
   "metadata": {},
   "source": [
    "# Search Similar Documents"
   ]
  },
  {
   "cell_type": "code",
   "execution_count": null,
   "metadata": {},
   "outputs": [],
   "source": [
    "def pretty_print_docs(docs):\n",
    "    print(f\"\\n{'-' * 100}\\n\".join([f\"Document {i+1}:\\n\\n\" + d.page_content for i, d in enumerate(docs)]))"
   ]
  },
  {
   "cell_type": "code",
   "execution_count": null,
   "metadata": {},
   "outputs": [],
   "source": [
    "question = \"What are security measures are applied in the company?\"\n",
    "\n",
    "docs = vectordb.similarity_search(question,k=5)\n",
    "pretty_print_docs(docs)"
   ]
  }
 ],
 "metadata": {
  "kernelspec": {
   "display_name": ".venv",
   "language": "python",
   "name": "python3"
  },
  "language_info": {
   "codemirror_mode": {
    "name": "ipython",
    "version": 3
   },
   "file_extension": ".py",
   "mimetype": "text/x-python",
   "name": "python",
   "nbconvert_exporter": "python",
   "pygments_lexer": "ipython3",
   "version": "3.11.3"
  },
  "orig_nbformat": 4
 },
 "nbformat": 4,
 "nbformat_minor": 2
}
